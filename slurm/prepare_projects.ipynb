{
 "cells": [
  {
   "cell_type": "code",
   "execution_count": 38,
   "metadata": {},
   "outputs": [
    {
     "name": "stdout",
     "output_type": "stream",
     "text": [
      "Length of df_relevant: 768\n",
      "Length of df_recent: 768\n"
     ]
    },
    {
     "name": "stderr",
     "output_type": "stream",
     "text": [
      "/var/folders/sv/pdgl__6900j8c78ybv1j2hjw0000gp/T/ipykernel_59588/3233421533.py:13: SettingWithCopyWarning: \n",
      "A value is trying to be set on a copy of a slice from a DataFrame.\n",
      "Try using .loc[row_indexer,col_indexer] = value instead\n",
      "\n",
      "See the caveats in the documentation: https://pandas.pydata.org/pandas-docs/stable/user_guide/indexing.html#returning-a-view-versus-a-copy\n",
      "  df_relevant[\"updated_at\"] = pd.to_datetime(df_relevant[\"updated_at\"], errors='coerce')\n",
      "/var/folders/sv/pdgl__6900j8c78ybv1j2hjw0000gp/T/ipykernel_59588/3233421533.py:19: SettingWithCopyWarning: \n",
      "A value is trying to be set on a copy of a slice from a DataFrame.\n",
      "Try using .loc[row_indexer,col_indexer] = value instead\n",
      "\n",
      "See the caveats in the documentation: https://pandas.pydata.org/pandas-docs/stable/user_guide/indexing.html#returning-a-view-versus-a-copy\n",
      "  df_relevant[\"updated_at\"] = pd.to_datetime(df_relevant[\"updated_at\"], errors='coerce')\n"
     ]
    }
   ],
   "source": [
    "import pandas as pd\n",
    "from datetime import datetime, timedelta\n",
    "\n",
    "project_file = \"../data/projects.csv\"\n",
    "\n",
    "# select first 1000 projects\n",
    "df_projects = pd.read_csv(project_file)[:1000]\n",
    "\n",
    "# select relevant projects\n",
    "df_relevant = df_projects[df_projects[\"relevance\"] == \"y\"]\n",
    "\n",
    "# check if projects have been updated in the last 90 days\n",
    "df_relevant[\"updated_at\"] = pd.to_datetime(df_relevant[\"updated_at\"], errors='coerce')\n",
    "\n",
    "print(\"Length of df_relevant:\", len(df_relevant))\n",
    "\n",
    "# Convert 'updated_at' to datetime\n",
    "# The format in the CSV is 'YYYY-MM-DD HH:MM:SS'\n",
    "df_relevant[\"updated_at\"] = pd.to_datetime(df_relevant[\"updated_at\"], errors='coerce')\n",
    "\n",
    "# Calculate the cutoff date (3 months ago)\n",
    "cutoff_date = datetime.now() - timedelta(days=90)\n",
    "\n",
    "# Filter to only those updated in the last 3 months\n",
    "df_recent = df_relevant[df_relevant[\"updated_at\"] >= cutoff_date]\n",
    "\n",
    "df_recent.to_csv(\"../data/projects_final.csv\", index=False)\n",
    "\n",
    "print(\"Length of df_recent:\", len(df_recent))\n",
    "\n",
    "with open(\"projects_final.txt\", \"w\", encoding=\"utf-8\") as dest:\n",
    "    for index, row in df_recent.iterrows():\n",
    "        dest.write(f\"python3 /tmp/ssimon/config-space/experiments/analysis.py --url={row['html_url']} --name={row['name']}\\n\")"
   ]
  },
  {
   "cell_type": "code",
   "execution_count": 39,
   "metadata": {},
   "outputs": [
    {
     "name": "stdout",
     "output_type": "stream",
     "text": [
      "Most common language: Python (151 repositories)\n",
      "Average repository size: 323.68 MB\n",
      "Largest repository size: 11.50 GB\n",
      "Smallest repository size: 41 kB\n",
      "Number of unique languages: 40\n",
      "Languages: ['Markdown' 'JavaScript' 'TypeScript' 'C' 'C++' 'HTML' 'Shell' 'Python'\n",
      " 'MDX' 'Dart' 'Jupyter Notebook' 'Go' 'Batchfile' 'C#' 'Java' 'Rust'\n",
      " 'Vim Script' 'Vue' 'CSS' 'Blade' 'Clojure' 'Zig' 'Assembly' 'Ruby'\n",
      " 'Kotlin' 'Julia' 'Astro' 'PHP' 'Roff' 'Swift' 'Scala' 'Lua' 'Haskell'\n",
      " 'Svelte' 'V' 'PowerShell' 'LLVM' 'TeX' 'Jinja' 'Elixir']\n",
      "Average number of stars: 49068.56\n",
      "Percentage of repositories written in Python: 19.66%\n",
      "Largest project: backstage (backstage/backstage)\n",
      "Size: 11.50 GB\n",
      "URL: https://github.com/backstage/backstage\n"
     ]
    }
   ],
   "source": [
    "df = pd.read_csv(\"../data/projects_final.csv\")\n",
    "\n",
    "# Average size\n",
    "avg_size = df['size'].mean()\n",
    "# Largest and smallest size\n",
    "max_size = df['size'].max()\n",
    "min_size = df['size'].min()\n",
    "# Range of languages\n",
    "languages = df['language'].dropna().unique()\n",
    "# Average stars\n",
    "avg_stars = df['stargazers_count'].mean()\n",
    "\n",
    "most_common_language = df['language'].mode()[0]\n",
    "language_counts = df['language'].value_counts()\n",
    "print(f\"Most common language: {most_common_language} ({language_counts[most_common_language]} repositories)\")\n",
    "\n",
    "print(f\"Average repository size: {avg_size/1024:.2f} MB\")\n",
    "print(f\"Largest repository size: {max_size/1024/1024:.2f} GB\")\n",
    "print(f\"Smallest repository size: {min_size} kB\")\n",
    "print(f\"Number of unique languages: {len(languages)}\")\n",
    "print(f\"Languages: {languages}\")\n",
    "print(f\"Average number of stars: {avg_stars:.2f}\")\n",
    "\n",
    "python_count = language_counts['Python']\n",
    "total_count = len(df)\n",
    "python_percent = (python_count / total_count) * 100\n",
    "print(f\"Percentage of repositories written in Python: {python_percent:.2f}%\")\n",
    "\n",
    "largest_project = df.loc[df['size'].idxmax()]\n",
    "print(f\"Largest project: {largest_project['name']} ({largest_project['full_name']})\")\n",
    "print(f\"Size: {largest_project['size']/1024/1024:.2f} GB\")\n",
    "print(f\"URL: {largest_project['html_url']}\")"
   ]
  },
  {
   "cell_type": "code",
   "execution_count": 40,
   "metadata": {},
   "outputs": [
    {
     "name": "stdout",
     "output_type": "stream",
     "text": [
      "198             https://github.com/necolas/normalize.css\n",
      "317                  https://github.com/karpathy/nanoGPT\n",
      "635       https://github.com/VincentGarreau/particles.js\n",
      "682                 https://github.com/meta-llama/llama3\n",
      "701    https://github.com/feder-cr/Jobs_Applier_AI_Ag...\n",
      "704    https://github.com/jamiebuilds/the-super-tiny-...\n",
      "Name: html_url, dtype: object\n"
     ]
    }
   ],
   "source": [
    "# Show all projects with size smaller than 1000 kB\n",
    "small_projects = df[df['size'] < 1000][['name', 'full_name', 'size', 'html_url']]\n",
    "print(small_projects[\"html_url\"])\n"
   ]
  }
 ],
 "metadata": {
  "kernelspec": {
   "display_name": "env",
   "language": "python",
   "name": "python3"
  },
  "language_info": {
   "codemirror_mode": {
    "name": "ipython",
    "version": 3
   },
   "file_extension": ".py",
   "mimetype": "text/x-python",
   "name": "python",
   "nbconvert_exporter": "python",
   "pygments_lexer": "ipython3",
   "version": "3.12.10"
  }
 },
 "nbformat": 4,
 "nbformat_minor": 2
}
