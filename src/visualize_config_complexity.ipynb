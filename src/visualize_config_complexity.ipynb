{
 "cells": [
  {
   "cell_type": "code",
   "execution_count": 6,
   "metadata": {},
   "outputs": [
    {
     "data": {
      "text/plain": [
       "'../data/test_data/graph_data/test-config-repo_graph_data.json'"
      ]
     },
     "execution_count": 6,
     "metadata": {},
     "output_type": "execute_result"
    }
   ],
   "source": [
    "import pandas as pd\n",
    "\n",
    "# Load the uploaded CSV file to inspect its structure\n",
    "option_file_path = '../data/test_data/test-config-repo_options.csv'\n",
    "option_data = pd.read_csv(option_file_path)\n",
    "\n",
    "\n",
    "################################################################################################\n",
    "# Create the basis graph data for a given project\n",
    "################################################################################################\n",
    "\n",
    "\n",
    "# Create a list of unique nodes\n",
    "concepts = option_data['Concept'].unique()\n",
    "artifacts = option_data['File Path'].unique()\n",
    "options = option_data[['File Path', 'Option', 'Values', 'Changed internally', 'Changed globally']].apply(tuple, axis=1)\n",
    "\n",
    "# Define nodes\n",
    "nodes = [{'id': concept, 'type': 'concept'} for concept in concepts]\n",
    "nodes += [{'id': artifact, 'type': 'artifact'} for artifact in artifacts]\n",
    "nodes += [{'id': f\"{option[0]}:{option[1]}\", 'values': str(option[2]), 'changed_internally': option[3], 'changed_globally': option[4], 'type': 'option', } for option in options]\n",
    "\n",
    "# Define links\n",
    "links = []\n",
    "\n",
    "# Link concepts to artifacts\n",
    "for _, row in option_data.iterrows():\n",
    "    links.append({'source': row['Concept'], 'target': row['File Path'], 'type': 'concept-artifact'})\n",
    "    \n",
    "# Link artifacts to options\n",
    "for _, row in option_data.iterrows():\n",
    "    artifact = row[\"File Path\"]\n",
    "    option = row[\"Option\"]\n",
    "    links.append({'source': row['File Path'], 'target': f\"{artifact}:{option}\", 'type': 'artifact-option'})\n",
    "\n",
    "\n",
    "################################################################################################\n",
    "# Add additional links to the graph data (Co-Changes of concepts)\n",
    "################################################################################################\n",
    "# Links concepts to concepts\n",
    "concept_relations_path = '../data/concept_cochanges/test-config-repo_concept_cochanges.csv'  # Update with your file path\n",
    "concept_relations = pd.read_csv(concept_relations_path)\n",
    "\n",
    "for _, row in concept_relations.iterrows():\n",
    "    source_concept = row['Concept1']\n",
    "    target_concept = row['Concept2']\n",
    "    weight = row['Percentage Internally']\n",
    "    count = row['Changed Internally']\n",
    "    \n",
    "    # Create a link for the concept relationship\n",
    "    links.append({\n",
    "        'source': source_concept,\n",
    "        'target': target_concept,\n",
    "        'type': 'concept-concept',\n",
    "        'weight': weight, # Add weight to use for link strength or color\n",
    "        'count': count  # Add count to use for\n",
    "    })\n",
    "\n",
    "################################################################################################\n",
    "# Add additional links to the graph data (Co-Changes of config file)\n",
    "################################################################################################\n",
    "# TODO: Add code to link artifacts based on their co-changes\n",
    "\n",
    "\n",
    "################################################################################################\n",
    "# Add additional links to the graph data (Co-Changes of config options)\n",
    "################################################################################################\n",
    "# TODO: Add code to link options based on their co-changes\n",
    "\n",
    "\n",
    "\n",
    "# Output the data\n",
    "graph_data = {'nodes': nodes, 'links': links}\n",
    "\n",
    "# Save the graph data as JSON for D3.js\n",
    "import json\n",
    "output_path = '../data/test_data/graph_data/test-config-repo_graph_data.json'\n",
    "with open(output_path, 'w') as f:\n",
    "    json.dump(graph_data, f)\n",
    "\n",
    "output_path"
   ]
  }
 ],
 "metadata": {
  "kernelspec": {
   "display_name": "env",
   "language": "python",
   "name": "python3"
  },
  "language_info": {
   "codemirror_mode": {
    "name": "ipython",
    "version": 3
   },
   "file_extension": ".py",
   "mimetype": "text/x-python",
   "name": "python",
   "nbconvert_exporter": "python",
   "pygments_lexer": "ipython3",
   "version": "3.10.12"
  }
 },
 "nbformat": 4,
 "nbformat_minor": 2
}
