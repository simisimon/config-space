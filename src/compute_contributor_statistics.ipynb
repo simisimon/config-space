{
 "cells": [
  {
   "cell_type": "markdown",
   "metadata": {},
   "source": [
    "**Contributors of Configuration Changes**\n",
    "\n",
    "- Who drives configuration changes?\n",
    "- Are configuration responsibilities are widely shared or concentrated among developers?\n",
    "- Mapping of collaborative dynamic of configuration work\n",
    "\n",
    "- TODO: Try to extract what concepts are changed by a contributor."
   ]
  },
  {
   "cell_type": "code",
   "execution_count": 4,
   "metadata": {},
   "outputs": [],
   "source": [
    "import json\n",
    "\n",
    "data_file = \"../data/analyzed_projects/test_project.json\"\n",
    "\n",
    "with open(data_file, \"r\", encoding=\"utf-8\") as src:\n",
    "    data = json.load(src)"
   ]
  },
  {
   "cell_type": "code",
   "execution_count": 5,
   "metadata": {},
   "outputs": [
    {
     "name": "stderr",
     "output_type": "stream",
     "text": [
      "/home/simisimon/GitHub/config-space/env/lib/python3.11/site-packages/numpy/_core/getlimits.py:548: UserWarning: Signature b'\\x00\\xd0\\xcc\\xcc\\xcc\\xcc\\xcc\\xcc\\xfb\\xbf\\x00\\x00\\x00\\x00\\x00\\x00' for <class 'numpy.longdouble'> does not match any known type: falling back to type probe function.\n",
      "This warnings indicates broken support for the dtype!\n",
      "  machar = _get_machar(dtype)\n"
     ]
    },
    {
     "name": "stdout",
     "output_type": "stream",
     "text": [
      "                                     Contributor  Config Changes  \\\n",
      "0  Sebastian Simon <bastisimon95@googlemail.com>               6   \n",
      "\n",
      "   Other Changes  \n",
      "0              2  \n"
     ]
    }
   ],
   "source": [
    "import pandas as pd\n",
    "from typing import List\n",
    "\n",
    "def show_config_contributors(data: List):\n",
    "\n",
    "    commit_data = data[\"config_commit_data\"]\n",
    "    contributor_config_changes = {}\n",
    "    contributor_other_changes = {}\n",
    "\n",
    "    for commit in commit_data:\n",
    "        author = commit[\"author\"]\n",
    "        config_files_changed = any(\n",
    "            \"insertions\" in file or \"deletions\" in file\n",
    "            for file in commit[\"network_data\"][\"config_files_data\"]\n",
    "        ) if commit[\"network_data\"] else None\n",
    "        if author not in contributor_config_changes:\n",
    "            contributor_config_changes[author] = 0\n",
    "        if author not in contributor_other_changes:\n",
    "            contributor_other_changes[author] = 0\n",
    "        \n",
    "        if config_files_changed:\n",
    "            contributor_config_changes[author] += 1\n",
    "        else:\n",
    "            contributor_other_changes[author] += 1\n",
    "\n",
    "    # Combine results into a DataFrame\n",
    "    contributor_changes_combined_df = pd.DataFrame({\n",
    "        \"Contributor\": contributor_config_changes.keys(),\n",
    "        \"Config Changes\": contributor_config_changes.values(),\n",
    "        \"Other Changes\": contributor_other_changes.values()\n",
    "    }).sort_values(by=[\"Config Changes\", \"Other Changes\"], ascending=False)\n",
    "\n",
    "    print(contributor_changes_combined_df.head(10))\n",
    "\n",
    "show_config_contributors(data=data)"
   ]
  },
  {
   "cell_type": "markdown",
   "metadata": {},
   "source": [
    "**Taxonomy of configuration changes in X most popular open-source software projects**\n",
    "\n",
    "TODO\n",
    "\n",
    "- increase understading of configuration changes\n",
    "    - which options change frequently?\n",
    "    - what kind of options are added/removed?\n",
    "    - why do these options change frequently? "
   ]
  }
 ],
 "metadata": {
  "kernelspec": {
   "display_name": "env",
   "language": "python",
   "name": "python3"
  },
  "language_info": {
   "codemirror_mode": {
    "name": "ipython",
    "version": 3
   },
   "file_extension": ".py",
   "mimetype": "text/x-python",
   "name": "python",
   "nbconvert_exporter": "python",
   "pygments_lexer": "ipython3",
   "version": "3.11.10"
  }
 },
 "nbformat": 4,
 "nbformat_minor": 2
}
