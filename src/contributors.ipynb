{
 "cells": [
  {
   "cell_type": "code",
   "execution_count": null,
   "metadata": {},
   "outputs": [],
   "source": [
    "import json\n",
    "import pandas as pd\n",
    "from typing import Dict\n",
    "from collections import defaultdict\n",
    "\n",
    "\n",
    "\n",
    "def get_controbutor_stats(data: Dict):\n",
    "    # Get project name\n",
    "    project_name = data.get(\"project_name\", \"Unknown\")\n",
    "\n",
    "    # Extract relevant commit data\n",
    "    commit_data = data.get(\"config_commit_data\", [])\n",
    "\n",
    "    # Dictionary to store contributor stats\n",
    "    contributors_stats = defaultdict(lambda: {\n",
    "        \"config_commits\": 0,\n",
    "        \"non_config_commits\": 0,\n",
    "        \"files_changed\": defaultdict(int)\n",
    "    })\n",
    "\n",
    "    # Process each commit\n",
    "    for commit in commit_data:\n",
    "        author = commit[\"author\"].lower()\n",
    "        is_config_related = commit[\"is_config_related\"]\n",
    "        changed_files = commit[\"network_data\"].get(\"config_files\", []) if \"network_data\" in commit else []\n",
    "\n",
    "        # Count config and non-config commits\n",
    "        if is_config_related:\n",
    "            contributors_stats[author][\"config_commits\"] += 1\n",
    "        else:\n",
    "            contributors_stats[author][\"non_config_commits\"] += 1\n",
    "\n",
    "        # Count files changed per contributor\n",
    "        for file in changed_files:\n",
    "            contributors_stats[author][\"files_changed\"][file] += 1\n",
    "\n",
    "    # Create two separate DataFrames: one for commit statistics and one for changed files\n",
    "    commit_stats_rows = []\n",
    "    changed_files_rows = []\n",
    "\n",
    "    for contributor, stats in contributors_stats.items():\n",
    "        commit_stats_rows.append({\n",
    "            \"Contributor\": contributor,\n",
    "            \"Config Commits\": stats[\"config_commits\"],\n",
    "            \"Non-Config Commits\": stats[\"non_config_commits\"]\n",
    "        })\n",
    "        \n",
    "        for file, count in stats[\"files_changed\"].items():\n",
    "            changed_files_rows.append({\n",
    "                \"Contributor\": contributor,\n",
    "                \"Changed File\": file,\n",
    "                \"File Change Count\": count\n",
    "            })\n",
    "\n",
    "    # Convert to DataFrames\n",
    "    commit_stats_df = pd.DataFrame(commit_stats_rows)\n",
    "    changed_files_df = pd.DataFrame(changed_files_rows)\n",
    "\n",
    "    commit_stats_df.to_csv(f\"../data/results/github/{project_name}/{project_name}_contributors.csv\", index=False)\n",
    "    changed_files_df.to_csv(f\"../data/results/github/{project_name}/{project_name}_contributor_files.csv\", index=False)\n"
   ]
  },
  {
   "cell_type": "code",
   "execution_count": null,
   "metadata": {},
   "outputs": [
    {
     "name": "stdout",
     "output_type": "stream",
     "text": [
      "Process test-config-repo...\n",
      "test-config-repo.json\n"
     ]
    }
   ],
   "source": [
    "import os\n",
    "\n",
    "for root, dirs, files in os.walk(\"../data/results/github\"):\n",
    "    project_dir_name = os.path.basename(root)\n",
    "\n",
    "    # Skip if no files found\n",
    "    if len(files) == 0:\n",
    "        continue \n",
    "\n",
    "    print(f\"Process {project_dir_name}...\")\n",
    "    file_name = next(filter(lambda x: x.endswith(f\"{project_dir_name}.json\"), files), None)\n",
    "\n",
    "    # Skip if no JSON file found\n",
    "    if not file_name:\n",
    "        continue\n"
   ]
  }
 ],
 "metadata": {
  "kernelspec": {
   "display_name": "env",
   "language": "python",
   "name": "python3"
  },
  "language_info": {
   "codemirror_mode": {
    "name": "ipython",
    "version": 3
   },
   "file_extension": ".py",
   "mimetype": "text/x-python",
   "name": "python",
   "nbconvert_exporter": "python",
   "pygments_lexer": "ipython3",
   "version": "3.10.1"
  }
 },
 "nbformat": 4,
 "nbformat_minor": 2
}
