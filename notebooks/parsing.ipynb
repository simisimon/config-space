{
 "cells": [
  {
   "cell_type": "markdown",
   "id": "7e1c6ff3",
   "metadata": {},
   "source": [
    "**Spring Boot**"
   ]
  },
  {
   "cell_type": "code",
   "execution_count": null,
   "id": "1a363748",
   "metadata": {},
   "outputs": [],
   "source": [
    "import requests\n",
    "from bs4 import BeautifulSoup\n",
    "\n",
    "\n",
    "url = \"https://docs.spring.io/spring-boot/appendix/application-properties/index.html\"\n",
    "response = requests.get(url)\n",
    "soup = BeautifulSoup(response.content, 'html.parser')\n",
    "\n",
    "output_file = \"../data/technology/spring_boot.properties\"\n",
    "properties = []\n",
    "\n",
    "# Iterate over all tables containing properties\n",
    "for table in soup.select('tbody'):\n",
    "    for row in table.select('tr'):\n",
    "        columns = row.find_all('td')\n",
    "        if len(columns) >= 2:\n",
    "            option = columns[0].get_text(strip=True)\n",
    "            default = columns[2].get_text(strip=True)\n",
    "            # Skip entries that are empty or malformed\n",
    "            if option:\n",
    "                properties.append((option, default))\n",
    "\n",
    "\n",
    "with open(output_file, 'w', encoding='utf-8') as f:\n",
    "    for option, default in properties:\n",
    "        sanitized_default = default.replace('\\u00A0', ' ').strip()\n",
    "        f.write(f\"{option}={sanitized_default}\\n\" if sanitized_default else f\"{option}=\\n\")"
   ]
  },
  {
   "cell_type": "markdown",
   "id": "f54d49e3",
   "metadata": {},
   "source": [
    "**Cypress**"
   ]
  },
  {
   "cell_type": "code",
   "execution_count": null,
   "id": "172b824b",
   "metadata": {},
   "outputs": [],
   "source": [
    "import requests\n",
    "from bs4 import BeautifulSoup\n",
    "\n",
    "\n",
    "url = \"https://docs.cypress.io/app/references/configuration\"\n",
    "response = requests.get(url)\n",
    "soup = BeautifulSoup(response.content, 'html.parser')\n",
    "\n",
    "output_file = \"../data/technology/cypress.properties\"\n",
    "properties = []\n",
    "\n",
    "# Iterate over all tables containing properties\n",
    "for table in soup.select('tbody'):\n",
    "    for row in table.select('tr'):\n",
    "        columns = row.find_all('td')\n",
    "        if len(columns) >= 2:\n",
    "            option = columns[0].get_text(strip=True)\n",
    "            default = columns[1].get_text(strip=True)\n",
    "            # Skip entries that are empty or malformed\n",
    "            if option:\n",
    "                properties.append((option, default))\n",
    "\n",
    "\n",
    "with open(output_file, 'w', encoding='utf-8') as f:\n",
    "    for option, default in properties:\n",
    "        f.write(f\"{option}={default}\\n\")"
   ]
  },
  {
   "cell_type": "markdown",
   "id": "c6128796",
   "metadata": {},
   "source": [
    "**MySQL**"
   ]
  },
  {
   "cell_type": "code",
   "execution_count": null,
   "id": "a46073e5",
   "metadata": {},
   "outputs": [],
   "source": [
    "import requests\n",
    "from bs4 import BeautifulSoup\n",
    "\n",
    "\n",
    "url = \"https://dev.mysql.com/doc/refman/8.4/en/server-system-variables.html\"\n",
    "response = requests.get(url)\n",
    "soup = BeautifulSoup(response.content, 'html.parser')\n",
    "\n",
    "output_file = \"../data/technology/mysql.properties\"\n",
    "properties = []\n",
    "\n",
    "properties = []\n",
    "for list in soup.select(\"ul\"):  # Skip header\n",
    "    for li in list.select(\"li\"):\n",
    "        option = li.find(\"code\", class_=\"literal\")\n",
    "        if option:\n",
    "            option_name = option.get_text(strip=True)\n",
    "            default_value= \"\"\n",
    "\n",
    "            table = li.find(\"table\")\n",
    "            if table:\n",
    "                for row in table.select(\"tr\"):\n",
    "                    th = row.find(\"th\")\n",
    "                    td = row.find(\"td\")\n",
    "                    if th and td and th.get_text(strip=True) == \"Default Value\":\n",
    "                        code = td.find(\"code\", class_=\"literal\")\n",
    "                        default_value = code.get_text(strip=True) if code else td.get_text(strip=True)\n",
    "\n",
    "                properties.append((option_name, default_value))\n",
    "\n",
    "with open(output_file, 'w', encoding='utf-8') as f:\n",
    "    for option, default in properties:\n",
    "        f.write(f\"{option}={default}\\n\")"
   ]
  },
  {
   "cell_type": "markdown",
   "id": "77cc8229",
   "metadata": {},
   "source": [
    "**GitHub Action**"
   ]
  },
  {
   "cell_type": "code",
   "execution_count": null,
   "id": "f26dc926",
   "metadata": {},
   "outputs": [],
   "source": [
    "import requests\n",
    "from bs4 import BeautifulSoup\n",
    "\n",
    "url = \"https://docs.github.com/en/actions/writing-workflows/workflow-syntax-for-github-actions\"\n",
    "response = requests.get(url)\n",
    "soup = BeautifulSoup(response.content, 'html.parser')\n",
    "\n",
    "output_file = \"../data/technology/github_action.properties\"\n",
    "properties = []\n",
    "\n",
    "list = soup.find_all(\"ul\", class_=\"List__ListBox-sc-1x7olzq-0 hgjakc\")[1]\n",
    "for entry in list.find_all(\"li\"):\n",
    "    option = entry.get_text(strip=True)\n",
    "    default_value = \"\"\n",
    "    properties.append((option, default_value))\n",
    "\n",
    "with open(output_file, 'w', encoding='utf-8') as f:\n",
    "    for option, default in properties:\n",
    "        f.write(f\"{option}={default}\\n\")"
   ]
  },
  {
   "cell_type": "markdown",
   "id": "b6bbc254",
   "metadata": {},
   "source": [
    "**Gradle**"
   ]
  },
  {
   "cell_type": "code",
   "execution_count": null,
   "id": "3cd7206f",
   "metadata": {},
   "outputs": [],
   "source": [
    "import requests\n",
    "from bs4 import BeautifulSoup\n",
    "\n",
    "url = \"https://docs.gradle.org/current/userguide/build_environment.html\"\n",
    "response = requests.get(url)\n",
    "soup = BeautifulSoup(response.content, 'html.parser')\n",
    "\n",
    "output_file = \"../data/technology/gradle.properties\"\n",
    "properties = []\n",
    "\n",
    "for dlist in soup.find_all(\"div\", class_=\"dlist\"):\n",
    "    dl = dlist.find(\"dl\")\n",
    "    for dt in dl.find_all(\"dt\"):\n",
    "        option = dt.get_text(strip=True)\n",
    "        if \"=\" in option:\n",
    "            option = option.split(\"=\")[0].strip()\n",
    "            properties.append((option, default_value))\n",
    "\n",
    "with open(output_file, 'w', encoding='utf-8') as f:\n",
    "    for option, default in properties:\n",
    "        f.write(f\"{option}={default}\\n\")"
   ]
  },
  {
   "cell_type": "markdown",
   "id": "282415ca",
   "metadata": {},
   "source": [
    "**TSconfig**"
   ]
  },
  {
   "cell_type": "code",
   "execution_count": null,
   "id": "6213ca8a",
   "metadata": {},
   "outputs": [],
   "source": [
    "import requests\n",
    "from bs4 import BeautifulSoup\n",
    "\n",
    "url = \"https://www.typescriptlang.org/tsconfig\"\n",
    "response = requests.get(url)\n",
    "soup = BeautifulSoup(response.content, 'html.parser')\n",
    "\n",
    "output_file = \"../data/technology/tsconfig.properties\"\n",
    "properties = []\n",
    "\n",
    "# All config option links point to IDs on the page\n",
    "for compiler_option in soup.find_all(\"section\", class_=\"compiler-option\"):\n",
    "    option = compiler_option.find(\"code\").get_text(strip=True)\n",
    "    default_section = compiler_option.find(\"ul\", class_=\"compiler-option-md\")\n",
    "    if default_section:\n",
    "        text = default_section.get_text(strip=True)\n",
    "        if \"Default:\" in text:\n",
    "            default_value = default_section.find(\"code\")\n",
    "            if default_value:\n",
    "                default_value = default_value.get_text(strip=True)\n",
    "        else:\n",
    "            default_value = \"\"\n",
    "    else:\n",
    "        default_value = \"\"\n",
    "    \n",
    "    properties.append((option, default_value))\n",
    "\n",
    "with open(output_file, 'w', encoding='utf-8') as f:\n",
    "    for option, default in properties:\n",
    "        f.write(f\"{option}={default}\\n\")"
   ]
  },
  {
   "cell_type": "markdown",
   "id": "c98f1aa1",
   "metadata": {},
   "source": [
    "**MongoDB**"
   ]
  },
  {
   "cell_type": "code",
   "execution_count": 52,
   "id": "87acd93a",
   "metadata": {},
   "outputs": [],
   "source": [
    "import requests\n",
    "from bs4 import BeautifulSoup\n",
    "import re\n",
    "\n",
    "url = \"https://www.mongodb.com/docs/manual/reference/configuration-options/\"\n",
    "response = requests.get(url)\n",
    "soup = BeautifulSoup(response.content, 'html.parser')\n",
    "\n",
    "output_file = \"../data/technology/mongodb.properties\"\n",
    "properties = []\n",
    "\n",
    "# All config option links point to IDs on the page\n",
    "for settings in soup.find_all(\"dl\", class_=\"setting\"):\n",
    "    dt = settings.find(\"dt\")\n",
    "    dd = settings.find(\"dd\")\n",
    "    option = dt.find(\"code\").get_text(strip=True)\n",
    "    default_value = \"\"\n",
    "\n",
    "    dd_text = dd.get_text(strip=True)\n",
    "    for p in dd.find_all(\"p\"):\n",
    "        p_text = p.get_text(strip=True)\n",
    "        if \"Default:\" in p.get_text():\n",
    "            default_value = p_text.split(\"Default:\")[-1].strip()\n",
    "        \n",
    "    \n",
    "    properties.append((option, default_value))\n",
    "\n",
    "with open(output_file, 'w', encoding='utf-8') as f:\n",
    "    for option, default in properties:\n",
    "        f.write(f\"{option}={default}\\n\")\n",
    " "
   ]
  }
 ],
 "metadata": {
  "kernelspec": {
   "display_name": "env",
   "language": "python",
   "name": "python3"
  },
  "language_info": {
   "codemirror_mode": {
    "name": "ipython",
    "version": 3
   },
   "file_extension": ".py",
   "mimetype": "text/x-python",
   "name": "python",
   "nbconvert_exporter": "python",
   "pygments_lexer": "ipython3",
   "version": "3.10.12"
  }
 },
 "nbformat": 4,
 "nbformat_minor": 5
}
