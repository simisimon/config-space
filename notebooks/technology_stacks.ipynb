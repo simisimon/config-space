{
 "cells": [
  {
   "cell_type": "markdown",
   "id": "fadf8d9c",
   "metadata": {},
   "source": [
    "Each software projects incorporates a specific technology stack. We aim to identify the **most common technology combinations** across open-source software projects."
   ]
  },
  {
   "cell_type": "code",
   "execution_count": null,
   "id": "1db17536",
   "metadata": {},
   "outputs": [
    {
     "name": "stdout",
     "output_type": "stream",
     "text": [
      "Number of projects: 479\n",
      "Processing ../data/projects/gin.json\n",
      "Files in the project: []\n",
      "['github action', 'yaml']\n",
      "Processing ../data/projects/pdf.js.json\n",
      "Error processing ../data/projects/pdf.js.json: Expecting property name enclosed in double quotes: line 250250266 column 7 (char 13817511936)\n",
      "Processing ../data/projects/bilibili-API-collect.json\n",
      "Files in the project: []\n",
      "['yaml', 'github action', 'nodejs']\n",
      "Processing ../data/projects/flash-attention.json\n",
      "Files in the project: []\n",
      "['yaml', 'github action', 'poetry', 'docker']\n",
      "Processing ../data/projects/statsd.json\n",
      "Files in the project: []\n",
      "['github action', 'docker compose', 'yaml', 'nodejs', 'docker', 'json']\n"
     ]
    },
    {
     "data": {
      "image/png": "[encoded data removed]",
      "text/plain": [
       "<Figure size 1200x700 with 1 Axes>"
      ]
     },
     "metadata": {},
     "output_type": "display_data"
    }
   ],
   "source": [
    "from typing import List, Dict\n",
    "import matplotlib.pyplot as plt\n",
    "import squarify\n",
    "import json\n",
    "import glob\n",
    "\n",
    "def plot_used_technologies(project_files: List):\n",
    "\n",
    "    aggregated_concepts: Dict[str, int] = {}\n",
    "\n",
    "    for project_file in project_files:\n",
    "        print(f\"Processing {project_file}\")\n",
    "        try:\n",
    "            with open(project_file, \"r\", encoding=\"utf-8\") as f:\n",
    "                data = json.load(f)\n",
    "\n",
    "                commit_data = data[\"commit_data\"]\n",
    "\n",
    "                latest_commit = next(filter(lambda commit: commit[\"is_latest_commit\"] == True, commit_data), None)\n",
    "                concepts = [\" \".join(concept.split(\"-\")) for concept in latest_commit[\"network_data\"][\"concepts\"]]\n",
    "            \n",
    "                network_data = latest_commit[\"network_data\"][\"config_file_data\"]\n",
    "                files = [x[\"file_path\"] for x in network_data if x[\"file_path\"].endswith(\".properties\")]\n",
    "                print(\"Files in the project:\", files)\n",
    "\n",
    "\n",
    "                print(concepts)\n",
    "\n",
    "                for concept in concepts:  \n",
    "                    if concept not in aggregated_concepts:\n",
    "                        aggregated_concepts[concept] = 1    \n",
    "                    else:   \n",
    "                        aggregated_concepts[concept] += 1\n",
    "        except Exception as e:\n",
    "            # Handle any errors that occur during file reading or JSON parsing\n",
    "            print(f\"Error processing {project_file}: {e}\")\n",
    "            continue\n",
    "\n",
    "    threshold = 3\n",
    "    merged_concepts: Dict[str, int] = {}\n",
    "    other_total = 0\n",
    "\n",
    "    for concept, count in aggregated_concepts.items():\n",
    "        if count >= threshold:\n",
    "            merged_concepts[concept] = count\n",
    "        else:\n",
    "            other_total += count\n",
    "\n",
    "    if other_total > 0:\n",
    "        merged_concepts[\"Other\"] = other_total\n",
    "\n",
    "\n",
    "    # Prepare plot data\n",
    "    #labels = [f\"{c}\\n({v})\" for c, v in aggregated_concepts.items()]\n",
    "    labels = [f\"{c}\\n({v})\" for c, v in merged_concepts.items()]\n",
    "    #sizes = list(aggregated_concepts.values())\n",
    "    sizes = list(merged_concepts.values())\n",
    "    colors = plt.cm.Set3.colors[:len(sizes)]\n",
    "\n",
    "    # Plot\n",
    "    plt.figure(figsize=(12, 7))\n",
    "    squarify.plot(sizes=sizes, label=labels, color=colors, alpha=0.9, text_kwargs={'fontsize': 12})\n",
    "    plt.axis('off')\n",
    "    plt.title(\"Aggregated Map of Technologies (Across Projects)\", fontsize=15)\n",
    "    plt.show()\n",
    "\n",
    "\n",
    "project_files = glob.glob(\"../data/projects/*.json\")\n",
    "print(\"Number of projects:\", len(project_files))\n",
    "plot_used_technologies(project_files[:5])\n"
   ]
  },
  {
   "cell_type": "code",
   "execution_count": 36,
   "id": "4b866656",
   "metadata": {},
   "outputs": [
    {
     "name": "stdout",
     "output_type": "stream",
     "text": [
      "Processing ../data/projects/gin.json\n",
      "File Type: yaml, Technology: other\n",
      "File Type: yaml, Technology: github action\n",
      "File Type: yaml, Technology: github action\n",
      "File Type: yaml, Technology: github action\n",
      "File Type: yaml, Technology: other\n",
      "File Type: yaml, Technology: other\n",
      "File Type: yaml, Technology: other\n",
      "Processing ../data/projects/bilibili-API-collect.json\n",
      "File Type: yaml, Technology: other\n",
      "File Type: yaml, Technology: other\n",
      "File Type: yaml, Technology: other\n",
      "File Type: yaml, Technology: other\n",
      "File Type: yaml, Technology: other\n",
      "File Type: yaml, Technology: github action\n",
      "File Type: json, Technology: nodejs\n",
      "Processing ../data/projects/flash-attention.json\n",
      "File Type: yaml, Technology: github action\n",
      "File Type: toml, Technology: poetry\n",
      "File Type: other, Technology: docker\n",
      "File Type: toml, Technology: poetry\n",
      "File Type: other, Technology: docker\n",
      "File Type: yaml, Technology: other\n",
      "File Type: yaml, Technology: other\n",
      "File Type: yaml, Technology: other\n",
      "File Type: yaml, Technology: other\n",
      "File Type: yaml, Technology: other\n",
      "File Type: yaml, Technology: other\n",
      "File Type: yaml, Technology: other\n",
      "File Type: yaml, Technology: other\n",
      "File Type: yaml, Technology: other\n",
      "File Type: yaml, Technology: other\n",
      "File Type: yaml, Technology: other\n",
      "File Type: yaml, Technology: other\n",
      "File Type: yaml, Technology: other\n",
      "File Type: yaml, Technology: other\n",
      "File Type: yaml, Technology: other\n",
      "File Type: yaml, Technology: other\n",
      "File Type: yaml, Technology: other\n",
      "File Type: yaml, Technology: other\n",
      "File Type: yaml, Technology: other\n",
      "File Type: yaml, Technology: other\n",
      "File Type: yaml, Technology: other\n",
      "File Type: yaml, Technology: other\n",
      "File Type: yaml, Technology: other\n",
      "File Type: yaml, Technology: other\n",
      "File Type: yaml, Technology: other\n",
      "File Type: yaml, Technology: other\n",
      "File Type: yaml, Technology: other\n",
      "File Type: yaml, Technology: other\n",
      "File Type: yaml, Technology: other\n",
      "File Type: yaml, Technology: other\n",
      "File Type: yaml, Technology: other\n",
      "File Type: yaml, Technology: other\n",
      "File Type: yaml, Technology: other\n",
      "File Type: yaml, Technology: other\n",
      "File Type: yaml, Technology: other\n",
      "File Type: yaml, Technology: other\n",
      "File Type: yaml, Technology: other\n",
      "File Type: yaml, Technology: other\n",
      "File Type: yaml, Technology: other\n",
      "File Type: yaml, Technology: other\n",
      "File Type: yaml, Technology: other\n",
      "File Type: yaml, Technology: other\n",
      "File Type: yaml, Technology: other\n",
      "File Type: yaml, Technology: other\n",
      "File Type: yaml, Technology: other\n",
      "File Type: yaml, Technology: other\n",
      "File Type: yaml, Technology: other\n",
      "File Type: yaml, Technology: other\n",
      "File Type: yaml, Technology: other\n",
      "File Type: yaml, Technology: other\n",
      "File Type: yaml, Technology: other\n",
      "File Type: yaml, Technology: other\n",
      "File Type: yaml, Technology: other\n",
      "File Type: yaml, Technology: other\n",
      "File Type: yaml, Technology: other\n",
      "File Type: yaml, Technology: other\n",
      "File Type: yaml, Technology: other\n",
      "File Type: yaml, Technology: other\n",
      "File Type: yaml, Technology: other\n",
      "File Type: yaml, Technology: other\n",
      "File Type: yaml, Technology: other\n",
      "File Type: yaml, Technology: other\n",
      "File Type: yaml, Technology: other\n",
      "File Type: yaml, Technology: other\n",
      "File Type: yaml, Technology: other\n",
      "File Type: yaml, Technology: other\n",
      "File Type: yaml, Technology: other\n",
      "File Type: yaml, Technology: other\n",
      "File Type: yaml, Technology: other\n",
      "File Type: yaml, Technology: other\n",
      "File Type: yaml, Technology: other\n",
      "File Type: yaml, Technology: other\n",
      "File Type: yaml, Technology: other\n",
      "File Type: yaml, Technology: other\n",
      "File Type: yaml, Technology: other\n",
      "File Type: yaml, Technology: other\n",
      "File Type: yaml, Technology: other\n",
      "File Type: yaml, Technology: other\n",
      "File Type: yaml, Technology: other\n",
      "File Type: yaml, Technology: other\n",
      "File Type: yaml, Technology: other\n",
      "File Type: yaml, Technology: other\n",
      "File Type: yaml, Technology: other\n",
      "File Type: yaml, Technology: other\n",
      "File Type: yaml, Technology: other\n",
      "File Type: yaml, Technology: other\n",
      "File Type: yaml, Technology: other\n",
      "File Type: yaml, Technology: other\n",
      "File Type: yaml, Technology: other\n",
      "File Type: yaml, Technology: other\n",
      "File Type: yaml, Technology: other\n",
      "File Type: yaml, Technology: other\n",
      "File Type: yaml, Technology: other\n",
      "File Type: yaml, Technology: other\n",
      "File Type: yaml, Technology: other\n",
      "File Type: yaml, Technology: other\n",
      "File Type: yaml, Technology: other\n",
      "File Type: yaml, Technology: other\n",
      "File Type: yaml, Technology: other\n",
      "File Type: yaml, Technology: other\n",
      "File Type: yaml, Technology: other\n",
      "File Type: yaml, Technology: other\n",
      "File Type: yaml, Technology: other\n",
      "File Type: yaml, Technology: other\n",
      "File Type: yaml, Technology: other\n",
      "File Type: yaml, Technology: other\n",
      "Processing ../data/projects/statsd.json\n",
      "File Type: yaml, Technology: github action\n",
      "File Type: yaml, Technology: other\n",
      "File Type: other, Technology: docker\n",
      "File Type: yaml, Technology: docker compose\n",
      "File Type: json, Technology: other\n",
      "File Type: json, Technology: nodejs\n",
      "Processing ../data/projects/rrweb.json\n",
      "File Type: json, Technology: other\n",
      "File Type: json, Technology: other\n",
      "File Type: yaml, Technology: other\n",
      "File Type: yaml, Technology: other\n",
      "File Type: yaml, Technology: other\n",
      "File Type: yaml, Technology: other\n",
      "File Type: yaml, Technology: github action\n",
      "File Type: yaml, Technology: github action\n",
      "File Type: yaml, Technology: github action\n",
      "File Type: yaml, Technology: other\n",
      "File Type: json, Technology: other\n",
      "File Type: yaml, Technology: other\n",
      "File Type: json, Technology: nodejs\n",
      "File Type: json, Technology: nodejs\n",
      "File Type: json, Technology: tsconfig\n",
      "File Type: json, Technology: nodejs\n",
      "File Type: json, Technology: nodejs\n",
      "File Type: json, Technology: tsconfig\n",
      "File Type: json, Technology: nodejs\n",
      "File Type: json, Technology: nodejs\n",
      "File Type: json, Technology: tsconfig\n",
      "File Type: json, Technology: nodejs\n",
      "File Type: json, Technology: tsconfig\n",
      "File Type: json, Technology: nodejs\n",
      "File Type: json, Technology: tsconfig\n",
      "File Type: json, Technology: nodejs\n",
      "File Type: json, Technology: tsconfig\n",
      "File Type: json, Technology: nodejs\n",
      "File Type: json, Technology: tsconfig\n",
      "File Type: json, Technology: nodejs\n",
      "File Type: json, Technology: tsconfig\n",
      "File Type: json, Technology: nodejs\n",
      "File Type: json, Technology: tsconfig\n",
      "File Type: json, Technology: nodejs\n",
      "File Type: json, Technology: tsconfig\n",
      "File Type: json, Technology: other\n",
      "File Type: json, Technology: other\n",
      "File Type: json, Technology: nodejs\n",
      "File Type: json, Technology: tsconfig\n",
      "File Type: json, Technology: nodejs\n",
      "File Type: json, Technology: tsconfig\n",
      "File Type: json, Technology: nodejs\n",
      "File Type: json, Technology: other\n",
      "File Type: json, Technology: tsconfig\n",
      "File Type: json, Technology: other\n",
      "File Type: json, Technology: tsconfig\n",
      "File Type: json, Technology: nodejs\n",
      "File Type: json, Technology: tsconfig\n",
      "File Type: json, Technology: other\n",
      "File Type: json, Technology: other\n",
      "File Type: json, Technology: other\n",
      "File Type: json, Technology: nodejs\n",
      "File Type: json, Technology: tsconfig\n",
      "File Type: json, Technology: other\n",
      "File Type: json, Technology: nodejs\n",
      "File Type: json, Technology: nodejs\n",
      "File Type: json, Technology: nodejs\n",
      "File Type: json, Technology: tsconfig\n",
      "File Type: json, Technology: tsconfig\n",
      "File Type: json, Technology: nodejs\n",
      "File Type: json, Technology: tsconfig\n",
      "File Type: json, Technology: nodejs\n",
      "File Type: json, Technology: tsconfig\n",
      "File Type: json, Technology: nodejs\n",
      "File Type: json, Technology: other\n",
      "File Type: json, Technology: tsconfig\n",
      "File Type: json, Technology: other\n",
      "File Type: json, Technology: other\n",
      "File Type: json, Technology: tsconfig\n",
      "File Type: json, Technology: other\n"
     ]
    },
    {
     "data": {
      "application/vnd.plotly.v1+json": {
       "config": {
        "plotlyServerURL": "https://plot.ly"
       },
       "data": [
        {
         "branchvalues": "total",
         "customdata": [
          [
           "json"
          ],
          [
           "json"
          ],
          [
           "json"
          ],
          [
           "json"
          ],
          [
           "other"
          ],
          [
           "other"
          ],
          [
           "toml"
          ],
          [
           "toml"
          ],
          [
           "yaml"
          ],
          [
           "yaml"
          ],
          [
           "yaml"
          ],
          [
           "yaml"
          ]
         ],
         "domain": {
          "x": [
           0,
           1
          ],
          "y": [
           0,
           1
          ]
         },
         "hovertemplate": "labels=%{label}<br>Scaled Count=%{value}<br>parent=%{parent}<br>id=%{id}<br>File Type=%{customdata[0]}<extra></extra>",
         "ids": [
          "json/nodejs (26)",
          "json/other (16)",
          "json/tsconfig (22)",
          "json",
          "other/docker (3)",
          "other",
          "toml/poetry (2)",
          "toml",
          "yaml/other (122)",
          "yaml/github action (9)",
          "yaml/docker compose (1)",
          "yaml"
         ],
         "labels": [
          "nodejs (26)",
          "other (16)",
          "tsconfig (22)",
          "json",
          "docker (3)",
          "other",
          "poetry (2)",
          "toml",
          "other (122)",
          "github action (9)",
          "docker compose (1)",
          "yaml"
         ],
         "marker": {
          "colors": [
           "#8dd3c7",
           "#8dd3c7",
           "#8dd3c7",
           "#8dd3c7",
           "#ffffb3",
           "#ffffb3",
           "#bebada",
           "#bebada",
           "#fb8072",
           "#fb8072",
           "#fb8072",
           "#fb8072"
          ]
         },
         "name": "",
         "parents": [
          "json",
          "json",
          "json",
          "",
          "other",
          "",
          "toml",
          "",
          "yaml",
          "yaml",
          "yaml",
          ""
         ],
         "root": {
          "color": "lightgrey"
         },
         "textfont": {
          "color": "black",
          "family": "Arial Bold, Arial, sans-serif",
          "size": 14
         },
         "type": "treemap",
         "values": {
          "bdata": "kIQDuN9dCkB6f/rBa6oGQPCz0f19FQlA/u3zXXKHIkDvOfr+Qi72P+85+v5CLvY/CwOteuqT8T8LA6166pPxP+mWckGtPxNAFlW1u7FrAkDvOfr+Qi7mP7KILH9OOx9A",
          "dtype": "f8"
         }
        }
       ],
       "layout": {
        "height": 800,
        "legend": {
         "tracegroupgap": 0
        },
        "margin": {
         "b": 25,
         "l": 25,
         "r": 25,
         "t": 50
        },
        "template": {
         "data": {
          "bar": [
           {
            "error_x": {
             "color": "#2a3f5f"
            },
            "error_y": {
             "color": "#2a3f5f"
            },
            "marker": {
             "line": {
              "color": "#E5ECF6",
              "width": 0.5
             },
             "pattern": {
              "fillmode": "overlay",
              "size": 10,
              "solidity": 0.2
             }
            },
            "type": "bar"
           }
          ],
          "barpolar": [
           {
            "marker": {
             "line": {
              "color": "#E5ECF6",
              "width": 0.5
             },
             "pattern": {
              "fillmode": "overlay",
              "size": 10,
              "solidity": 0.2
             }
            },
            "type": "barpolar"
           }
          ],
          "carpet": [
           {
            "aaxis": {
             "endlinecolor": "#2a3f5f",
             "gridcolor": "white",
             "linecolor": "white",
             "minorgridcolor": "white",
             "startlinecolor": "#2a3f5f"
            },
            "baxis": {
             "endlinecolor": "#2a3f5f",
             "gridcolor": "white",
             "linecolor": "white",
             "minorgridcolor": "white",
             "startlinecolor": "#2a3f5f"
            },
            "type": "carpet"
           }
          ],
          "choropleth": [
           {
            "colorbar": {
             "outlinewidth": 0,
             "ticks": ""
            },
            "type": "choropleth"
           }
          ],
          "contour": [
           {
            "colorbar": {
             "outlinewidth": 0,
             "ticks": ""
            },
            "colorscale": [
             [
              0,
              "#0d0887"
             ],
             [
              0.1111111111111111,
              "#46039f"
             ],
             [
              0.2222222222222222,
              "#7201a8"
             ],
             [
              0.3333333333333333,
              "#9c179e"
             ],
             [
              0.4444444444444444,
              "#bd3786"
             ],
             [
              0.5555555555555556,
              "#d8576b"
             ],
             [
              0.6666666666666666,
              "#ed7953"
             ],
             [
              0.7777777777777778,
              "#fb9f3a"
             ],
             [
              0.8888888888888888,
              "#fdca26"
             ],
             [
              1,
              "#f0f921"
             ]
            ],
            "type": "contour"
           }
          ],
          "contourcarpet": [
           {
            "colorbar": {
             "outlinewidth": 0,
             "ticks": ""
            },
            "type": "contourcarpet"
           }
          ],
          "heatmap": [
           {
            "colorbar": {
             "outlinewidth": 0,
             "ticks": ""
            },
            "colorscale": [
             [
              0,
              "#0d0887"
             ],
             [
              0.1111111111111111,
              "#46039f"
             ],
             [
              0.2222222222222222,
              "#7201a8"
             ],
             [
              0.3333333333333333,
              "#9c179e"
             ],
             [
              0.4444444444444444,
              "#bd3786"
             ],
             [
              0.5555555555555556,
              "#d8576b"
             ],
             [
              0.6666666666666666,
              "#ed7953"
             ],
             [
              0.7777777777777778,
              "#fb9f3a"
             ],
             [
              0.8888888888888888,
              "#fdca26"
             ],
             [
              1,
              "#f0f921"
             ]
            ],
            "type": "heatmap"
           }
          ],
          "histogram": [
           {
            "marker": {
             "pattern": {
              "fillmode": "overlay",
              "size": 10,
              "solidity": 0.2
             }
            },
            "type": "histogram"
           }
          ],
          "histogram2d": [
           {
            "colorbar": {
             "outlinewidth": 0,
             "ticks": ""
            },
            "colorscale": [
             [
              0,
              "#0d0887"
             ],
             [
              0.1111111111111111,
              "#46039f"
             ],
             [
              0.2222222222222222,
              "#7201a8"
             ],
             [
              0.3333333333333333,
              "#9c179e"
             ],
             [
              0.4444444444444444,
              "#bd3786"
             ],
             [
              0.5555555555555556,
              "#d8576b"
             ],
             [
              0.6666666666666666,
              "#ed7953"
             ],
             [
              0.7777777777777778,
              "#fb9f3a"
             ],
             [
              0.8888888888888888,
              "#fdca26"
             ],
             [
              1,
              "#f0f921"
             ]
            ],
            "type": "histogram2d"
           }
          ],
          "histogram2dcontour": [
           {
            "colorbar": {
             "outlinewidth": 0,
             "ticks": ""
            },
            "colorscale": [
             [
              0,
              "#0d0887"
             ],
             [
              0.1111111111111111,
              "#46039f"
             ],
             [
              0.2222222222222222,
              "#7201a8"
             ],
             [
              0.3333333333333333,
              "#9c179e"
             ],
             [
              0.4444444444444444,
              "#bd3786"
             ],
             [
              0.5555555555555556,
              "#d8576b"
             ],
             [
              0.6666666666666666,
              "#ed7953"
             ],
             [
              0.7777777777777778,
              "#fb9f3a"
             ],
             [
              0.8888888888888888,
              "#fdca26"
             ],
             [
              1,
              "#f0f921"
             ]
            ],
            "type": "histogram2dcontour"
           }
          ],
          "mesh3d": [
           {
            "colorbar": {
             "outlinewidth": 0,
             "ticks": ""
            },
            "type": "mesh3d"
           }
          ],
          "parcoords": [
           {
            "line": {
             "colorbar": {
              "outlinewidth": 0,
              "ticks": ""
             }
            },
            "type": "parcoords"
           }
          ],
          "pie": [
           {
            "automargin": true,
            "type": "pie"
           }
          ],
          "scatter": [
           {
            "fillpattern": {
             "fillmode": "overlay",
             "size": 10,
             "solidity": 0.2
            },
            "type": "scatter"
           }
          ],
          "scatter3d": [
           {
            "line": {
             "colorbar": {
              "outlinewidth": 0,
              "ticks": ""
             }
            },
            "marker": {
             "colorbar": {
              "outlinewidth": 0,
              "ticks": ""
             }
            },
            "type": "scatter3d"
           }
          ],
          "scattercarpet": [
           {
            "marker": {
             "colorbar": {
              "outlinewidth": 0,
              "ticks": ""
             }
            },
            "type": "scattercarpet"
           }
          ],
          "scattergeo": [
           {
            "marker": {
             "colorbar": {
              "outlinewidth": 0,
              "ticks": ""
             }
            },
            "type": "scattergeo"
           }
          ],
          "scattergl": [
           {
            "marker": {
             "colorbar": {
              "outlinewidth": 0,
              "ticks": ""
             }
            },
            "type": "scattergl"
           }
          ],
          "scattermap": [
           {
            "marker": {
             "colorbar": {
              "outlinewidth": 0,
              "ticks": ""
             }
            },
            "type": "scattermap"
           }
          ],
          "scattermapbox": [
           {
            "marker": {
             "colorbar": {
              "outlinewidth": 0,
              "ticks": ""
             }
            },
            "type": "scattermapbox"
           }
          ],
          "scatterpolar": [
           {
            "marker": {
             "colorbar": {
              "outlinewidth": 0,
              "ticks": ""
             }
            },
            "type": "scatterpolar"
           }
          ],
          "scatterpolargl": [
           {
            "marker": {
             "colorbar": {
              "outlinewidth": 0,
              "ticks": ""
             }
            },
            "type": "scatterpolargl"
           }
          ],
          "scatterternary": [
           {
            "marker": {
             "colorbar": {
              "outlinewidth": 0,
              "ticks": ""
             }
            },
            "type": "scatterternary"
           }
          ],
          "surface": [
           {
            "colorbar": {
             "outlinewidth": 0,
             "ticks": ""
            },
            "colorscale": [
             [
              0,
              "#0d0887"
             ],
             [
              0.1111111111111111,
              "#46039f"
             ],
             [
              0.2222222222222222,
              "#7201a8"
             ],
             [
              0.3333333333333333,
              "#9c179e"
             ],
             [
              0.4444444444444444,
              "#bd3786"
             ],
             [
              0.5555555555555556,
              "#d8576b"
             ],
             [
              0.6666666666666666,
              "#ed7953"
             ],
             [
              0.7777777777777778,
              "#fb9f3a"
             ],
             [
              0.8888888888888888,
              "#fdca26"
             ],
             [
              1,
              "#f0f921"
             ]
            ],
            "type": "surface"
           }
          ],
          "table": [
           {
            "cells": {
             "fill": {
              "color": "#EBF0F8"
             },
             "line": {
              "color": "white"
             }
            },
            "header": {
             "fill": {
              "color": "#C8D4E3"
             },
             "line": {
              "color": "white"
             }
            },
            "type": "table"
           }
          ]
         },
         "layout": {
          "annotationdefaults": {
           "arrowcolor": "#2a3f5f",
           "arrowhead": 0,
           "arrowwidth": 1
          },
          "autotypenumbers": "strict",
          "coloraxis": {
           "colorbar": {
            "outlinewidth": 0,
            "ticks": ""
           }
          },
          "colorscale": {
           "diverging": [
            [
             0,
             "#8e0152"
            ],
            [
             0.1,
             "#c51b7d"
            ],
            [
             0.2,
             "#de77ae"
            ],
            [
             0.3,
             "#f1b6da"
            ],
            [
             0.4,
             "#fde0ef"
            ],
            [
             0.5,
             "#f7f7f7"
            ],
            [
             0.6,
             "#e6f5d0"
            ],
            [
             0.7,
             "#b8e186"
            ],
            [
             0.8,
             "#7fbc41"
            ],
            [
             0.9,
             "#4d9221"
            ],
            [
             1,
             "#276419"
            ]
           ],
           "sequential": [
            [
             0,
             "#0d0887"
            ],
            [
             0.1111111111111111,
             "#46039f"
            ],
            [
             0.2222222222222222,
             "#7201a8"
            ],
            [
             0.3333333333333333,
             "#9c179e"
            ],
            [
             0.4444444444444444,
             "#bd3786"
            ],
            [
             0.5555555555555556,
             "#d8576b"
            ],
            [
             0.6666666666666666,
             "#ed7953"
            ],
            [
             0.7777777777777778,
             "#fb9f3a"
            ],
            [
             0.8888888888888888,
             "#fdca26"
            ],
            [
             1,
             "#f0f921"
            ]
           ],
           "sequentialminus": [
            [
             0,
             "#0d0887"
            ],
            [
             0.1111111111111111,
             "#46039f"
            ],
            [
             0.2222222222222222,
             "#7201a8"
            ],
            [
             0.3333333333333333,
             "#9c179e"
            ],
            [
             0.4444444444444444,
             "#bd3786"
            ],
            [
             0.5555555555555556,
             "#d8576b"
            ],
            [
             0.6666666666666666,
             "#ed7953"
            ],
            [
             0.7777777777777778,
             "#fb9f3a"
            ],
            [
             0.8888888888888888,
             "#fdca26"
            ],
            [
             1,
             "#f0f921"
            ]
           ]
          },
          "colorway": [
           "#636efa",
           "#EF553B",
           "#00cc96",
           "#ab63fa",
           "#FFA15A",
           "#19d3f3",
           "#FF6692",
           "#B6E880",
           "#FF97FF",
           "#FECB52"
          ],
          "font": {
           "color": "#2a3f5f"
          },
          "geo": {
           "bgcolor": "white",
           "lakecolor": "white",
           "landcolor": "#E5ECF6",
           "showlakes": true,
           "showland": true,
           "subunitcolor": "white"
          },
          "hoverlabel": {
           "align": "left"
          },
          "hovermode": "closest",
          "mapbox": {
           "style": "light"
          },
          "paper_bgcolor": "white",
          "plot_bgcolor": "#E5ECF6",
          "polar": {
           "angularaxis": {
            "gridcolor": "white",
            "linecolor": "white",
            "ticks": ""
           },
           "bgcolor": "#E5ECF6",
           "radialaxis": {
            "gridcolor": "white",
            "linecolor": "white",
            "ticks": ""
           }
          },
          "scene": {
           "xaxis": {
            "backgroundcolor": "#E5ECF6",
            "gridcolor": "white",
            "gridwidth": 2,
            "linecolor": "white",
            "showbackground": true,
            "ticks": "",
            "zerolinecolor": "white"
           },
           "yaxis": {
            "backgroundcolor": "#E5ECF6",
            "gridcolor": "white",
            "gridwidth": 2,
            "linecolor": "white",
            "showbackground": true,
            "ticks": "",
            "zerolinecolor": "white"
           },
           "zaxis": {
            "backgroundcolor": "#E5ECF6",
            "gridcolor": "white",
            "gridwidth": 2,
            "linecolor": "white",
            "showbackground": true,
            "ticks": "",
            "zerolinecolor": "white"
           }
          },
          "shapedefaults": {
           "line": {
            "color": "#2a3f5f"
           }
          },
          "ternary": {
           "aaxis": {
            "gridcolor": "white",
            "linecolor": "white",
            "ticks": ""
           },
           "baxis": {
            "gridcolor": "white",
            "linecolor": "white",
            "ticks": ""
           },
           "bgcolor": "#E5ECF6",
           "caxis": {
            "gridcolor": "white",
            "linecolor": "white",
            "ticks": ""
           }
          },
          "title": {
           "x": 0.05
          },
          "xaxis": {
           "automargin": true,
           "gridcolor": "white",
           "linecolor": "white",
           "ticks": "",
           "title": {
            "standoff": 15
           },
           "zerolinecolor": "white",
           "zerolinewidth": 2
          },
          "yaxis": {
           "automargin": true,
           "gridcolor": "white",
           "linecolor": "white",
           "ticks": "",
           "title": {
            "standoff": 15
           },
           "zerolinecolor": "white",
           "zerolinewidth": 2
          }
         }
        },
        "title": {
         "text": "Technology Usage by File Type"
        },
        "treemapcolorway": [
         "#8dd3c7",
         "#ffffb3",
         "#bebada",
         "#fb8072",
         "#80b1d3",
         "#fdb462",
         "#b3de69",
         "#fccde5",
         "#d9d9d9",
         "#bc80bd",
         "#ccebc5",
         "#ffed6f"
        ],
        "width": 1200
       }
      }
     },
     "metadata": {},
     "output_type": "display_data"
    }
   ],
   "source": [
    "import json\n",
    "import glob\n",
    "import pandas as pd\n",
    "import plotly.express as px\n",
    "import numpy as np\n",
    "\n",
    "# Ensure the dictionary is valid (commas fixed)\n",
    "file_types = {\n",
    "    \"yaml\": [\"ansible\", \"ansible playbook\", \"kubernetes\", \"docker compose\", \"github action\", \"circleci\", \"elasticsearch\", \"flutter\", \"heroku\", \"spring\", \"travis\", \"yaml\"],\n",
    "    \"properties\": [\"alluxio\", \"spring\", \"kafka\", \"gradle\", \"gradle wrapper\", \"maven wrapper\", \"properties\"],\n",
    "    \"json\": [\"angular\", \"tsconfig\", \"nodejs\", \"cypress\", \"json\"],\n",
    "    \"xml\": [\"maven\", \"android\", \"hadoop common\", \"hadoop hbase\", \"hadoop hdfs\", \"mapreduce\", \"yarn\", \"xml\"],\n",
    "    \"toml\": [\"cargo\", \"netlify\", \"poetry\", \"toml\"],\n",
    "    \"conf\": [\"mongodb\", \"nginx\", \"postgresql\", \"rabbitmq\", \"redis\", \"apache\", \"conf\"],\n",
    "    \"ini\": [\"mysql\", \"php\", \"ini\"],\n",
    "    \"cfg\": [\"zookeeper\"],\n",
    "    \"other\": [\"docker\", \"django\"]\n",
    "}\n",
    "\n",
    "custom_colors = [\n",
    "    \"#8dd3c7\", \"#ffffb3\", \"#bebada\", \"#fb8072\",\n",
    "    \"#80b1d3\", \"#fdb462\", \"#b3de69\", \"#fccde5\",\n",
    "    \"#d9d9d9\", \"#bc80bd\", \"#ccebc5\", \"#ffed6f\"\n",
    "]\n",
    "\n",
    "# Reverse the mapping: concept → file type\n",
    "concept_to_filetype = {}\n",
    "for ext, concepts in file_types.items():\n",
    "    for concept in concepts:\n",
    "        concept_to_filetype[concept.lower()] = ext\n",
    "\n",
    "def plot_technology_by_filetype(project_files):\n",
    "    tech_counts = {}\n",
    "\n",
    "    for project_file in project_files:\n",
    "        print(f\"Processing {project_file}\")\n",
    "        try:\n",
    "            with open(project_file, \"r\", encoding=\"utf-8\") as f:\n",
    "                data = json.load(f)\n",
    "                latest_commit = next(\n",
    "                    filter(lambda commit: commit[\"is_latest_commit\"] == True, data[\"commit_data\"]), None\n",
    "                )\n",
    "\n",
    "                config_data = latest_commit[\"network_data\"][\"config_file_data\"]\n",
    "\n",
    "                for config_file in config_data:\n",
    "                    raw_concept = config_file[\"concept\"]\n",
    "                    normalized_concept = \" \".join(raw_concept.lower().split(\"-\")).strip()\n",
    "                    file_type = concept_to_filetype.get(normalized_concept, \"other\")\n",
    "\n",
    "                    # Rename technology to 'Other' only if concept exactly equals file_type\n",
    "                    concept_label = \"other\" if normalized_concept == file_type else normalized_concept\n",
    "\n",
    "                    print(f\"File Type: {file_type}, Technology: {concept_label}\")\n",
    "\n",
    "                    key = (file_type, concept_label)\n",
    "                    tech_counts[key] = tech_counts.get(key, 0) + 1\n",
    "\n",
    "        except Exception as e:\n",
    "            print(f\"Error processing {project_file}: {e}\")\n",
    "            continue\n",
    "\n",
    "    data_for_df = []\n",
    "    for (file_type, concept), count in tech_counts.items():\n",
    "        data_for_df.append({\n",
    "            \"File Type\": file_type,\n",
    "            \"Technology\": concept,\n",
    "            \"Count\": count\n",
    "        })\n",
    "\n",
    "    df = pd.DataFrame(data_for_df)\n",
    "\n",
    "    # Log-scaling for visualization\n",
    "    df[\"Scaled Count\"] = df[\"Count\"].apply(lambda x: np.log1p(x))  # log(1 + x)\n",
    "\n",
    "    # Optional: Enrich label for display\n",
    "    df[\"Label\"] = df[\"Technology\"] + \" (\" + df[\"Count\"].astype(str) + \")\"\n",
    "    \n",
    "    # Plot\n",
    "    fig = px.treemap(\n",
    "        df,\n",
    "        path=[\"File Type\", \"Label\"],\n",
    "        values=\"Scaled Count\",\n",
    "        color=\"File Type\",\n",
    "        color_discrete_sequence=custom_colors,\n",
    "        title=\"Technology Usage by File Type\"\n",
    "    )\n",
    "\n",
    "    fig.update_traces(root_color=\"lightgrey\", textfont=dict(family=\"Arial Bold, Arial, sans-serif\", size=14, color=\"black\"))\n",
    "    fig.update_layout(\n",
    "        width=1200,\n",
    "        height=800,\n",
    "        margin=dict(t=50, l=25, r=25, b=25)\n",
    "    )\n",
    "    fig.show()\n",
    "\n",
    "# Example usage\n",
    "project_files = glob.glob(\"../data/projects/*.json\")\n",
    "plot_technology_by_filetype(project_files[:5])\n"
   ]
  },
  {
   "cell_type": "code",
   "execution_count": 5,
   "id": "164d8b0d",
   "metadata": {},
   "outputs": [
    {
     "name": "stdout",
     "output_type": "stream",
     "text": [
      "Memberships: [('github-action', 'yaml'), ('json', 'yaml'), ('github-action', 'json'), ('github-action', 'json', 'yaml'), ('nodejs', 'yaml'), ('github-action', 'nodejs'), ('json', 'nodejs'), ('github-action', 'nodejs', 'yaml'), ('json', 'nodejs', 'yaml'), ('docker', 'yaml'), ('github-action', 'json', 'nodejs'), ('github-action', 'json', 'nodejs', 'yaml'), ('docker', 'json'), ('docker', 'json', 'yaml'), ('docker', 'github-action'), ('docker', 'github-action', 'yaml'), ('toml', 'yaml'), ('json', 'tsconfig'), ('nodejs', 'tsconfig'), ('tsconfig', 'yaml')]\n",
      "Counts: [86, 74, 67, 64, 47, 41, 41, 41, 41, 37, 35, 35, 35, 33, 32, 31, 30, 29, 29, 29]\n"
     ]
    },
    {
     "name": "stderr",
     "output_type": "stream",
     "text": [
      "/Users/sebastiansimon/GitHub/config-space/env/lib/python3.12/site-packages/upsetplot/data.py:303: FutureWarning: Downcasting object dtype arrays on .fillna, .ffill, .bfill is deprecated and will change in a future version. Call result.infer_objects(copy=False) instead. To opt-in to the future behavior, set `pd.set_option('future.no_silent_downcasting', True)`\n",
      "  df.fillna(False, inplace=True)\n",
      "/Users/sebastiansimon/GitHub/config-space/env/lib/python3.12/site-packages/upsetplot/plotting.py:795: FutureWarning: A value is trying to be set on a copy of a DataFrame or Series through chained assignment using an inplace method.\n",
      "The behavior will change in pandas 3.0. This inplace method will never work because the intermediate object on which we are setting values always behaves as a copy.\n",
      "\n",
      "For example, when doing 'df[col].method(value, inplace=True)', try using 'df.method({col: value}, inplace=True)' or df[col] = df[col].method(value) instead, to perform the operation inplace on the original object.\n",
      "\n",
      "\n",
      "  styles[\"linewidth\"].fillna(1, inplace=True)\n",
      "/Users/sebastiansimon/GitHub/config-space/env/lib/python3.12/site-packages/upsetplot/plotting.py:796: FutureWarning: A value is trying to be set on a copy of a DataFrame or Series through chained assignment using an inplace method.\n",
      "The behavior will change in pandas 3.0. This inplace method will never work because the intermediate object on which we are setting values always behaves as a copy.\n",
      "\n",
      "For example, when doing 'df[col].method(value, inplace=True)', try using 'df.method({col: value}, inplace=True)' or df[col] = df[col].method(value) instead, to perform the operation inplace on the original object.\n",
      "\n",
      "\n",
      "  styles[\"facecolor\"].fillna(self._facecolor, inplace=True)\n",
      "/Users/sebastiansimon/GitHub/config-space/env/lib/python3.12/site-packages/upsetplot/plotting.py:797: FutureWarning: A value is trying to be set on a copy of a DataFrame or Series through chained assignment using an inplace method.\n",
      "The behavior will change in pandas 3.0. This inplace method will never work because the intermediate object on which we are setting values always behaves as a copy.\n",
      "\n",
      "For example, when doing 'df[col].method(value, inplace=True)', try using 'df.method({col: value}, inplace=True)' or df[col] = df[col].method(value) instead, to perform the operation inplace on the original object.\n",
      "\n",
      "\n",
      "  styles[\"edgecolor\"].fillna(styles[\"facecolor\"], inplace=True)\n",
      "/Users/sebastiansimon/GitHub/config-space/env/lib/python3.12/site-packages/upsetplot/plotting.py:798: FutureWarning: A value is trying to be set on a copy of a DataFrame or Series through chained assignment using an inplace method.\n",
      "The behavior will change in pandas 3.0. This inplace method will never work because the intermediate object on which we are setting values always behaves as a copy.\n",
      "\n",
      "For example, when doing 'df[col].method(value, inplace=True)', try using 'df.method({col: value}, inplace=True)' or df[col] = df[col].method(value) instead, to perform the operation inplace on the original object.\n",
      "\n",
      "\n",
      "  styles[\"linestyle\"].fillna(\"solid\", inplace=True)\n"
     ]
    },
    {
     "data": {
      "text/plain": [
       "<Figure size 1000x600 with 0 Axes>"
      ]
     },
     "metadata": {},
     "output_type": "display_data"
    },
    {
     "data": {
      "image/png": "[encoded data removed]",
      "text/plain": [
       "<Figure size 1000x600 with 3 Axes>"
      ]
     },
     "metadata": {},
     "output_type": "display_data"
    }
   ],
   "source": [
    "from upsetplot import UpSet, from_memberships\n",
    "import matplotlib.pyplot as plt\n",
    "\n",
    "def plot_technology_combinations(combos_counter: Counter, num_combos: int = 20):\n",
    "    memberships = []\n",
    "    counts = []\n",
    "\n",
    "    for combo, count in combos_counter.most_common(num_combos):\n",
    "        memberships.append(combo)\n",
    "        counts.append(count)\n",
    "\n",
    "    print(\"Memberships:\", memberships)\n",
    "    print(\"Counts:\", counts)\n",
    "\n",
    "    data = from_memberships(memberships, data=counts)\n",
    "\n",
    "    # Plot\n",
    "    plt.figure(figsize=(10, 6))\n",
    "    plot = UpSet(data, show_counts=True, element_size=None, totals_plot_elements=0).plot()\n",
    "    plot[\"intersections\"].set_ylabel(\"# Projects\")\n",
    "    plt.suptitle(\"Technology Combinations Across Projects\")\n",
    "    plt.show()\n",
    "\n",
    "plot_technology_combinations(combos_counter, num_combos=20)"
   ]
  },
  {
   "cell_type": "code",
   "execution_count": null,
   "id": "a7708824",
   "metadata": {},
   "outputs": [
    {
     "name": "stdout",
     "output_type": "stream",
     "text": [
      "['yaml', 'github-action', 'github-action', 'github-action', 'yaml', 'yaml', 'codecov']\n",
      "['yaml', 'yaml', 'yaml', 'yaml', 'yaml', 'github-action', 'nodejs']\n",
      "Project:  ../data/projects/bilibili-API-collect.json\n",
      "package.json\n",
      "['github-action', 'poetry', 'docker', 'poetry', 'docker', 'yaml', 'yaml', 'yaml', 'yaml', 'yaml', 'yaml', 'yaml', 'yaml', 'yaml', 'yaml', 'yaml', 'yaml', 'yaml', 'yaml', 'yaml', 'yaml', 'yaml', 'yaml', 'yaml', 'yaml', 'yaml', 'yaml', 'yaml', 'yaml', 'yaml', 'yaml', 'yaml', 'yaml', 'yaml', 'yaml', 'yaml', 'yaml', 'yaml', 'yaml', 'yaml', 'yaml', 'yaml', 'yaml', 'yaml', 'yaml', 'yaml', 'yaml', 'yaml', 'yaml', 'yaml', 'yaml', 'yaml', 'yaml', 'yaml', 'yaml', 'yaml', 'yaml', 'yaml', 'yaml', 'yaml', 'yaml', 'yaml', 'yaml', 'yaml', 'yaml', 'yaml', 'yaml', 'yaml', 'yaml', 'yaml', 'yaml', 'yaml', 'yaml', 'yaml', 'yaml', 'yaml', 'yaml', 'yaml', 'yaml', 'yaml', 'yaml', 'yaml', 'yaml', 'yaml', 'yaml', 'yaml', 'yaml', 'yaml', 'yaml', 'yaml', 'yaml', 'yaml', 'yaml', 'yaml', 'yaml', 'yaml', 'yaml', 'yaml', 'yaml', 'yaml', 'yaml', 'yaml', 'yaml', 'yaml', 'yaml', 'yaml', 'yaml', 'yaml', 'yaml', 'yaml', 'yaml']\n",
      "['github-action', 'yaml', 'docker', 'docker-compose', 'nodejs', 'nodejs']\n",
      "Project:  ../data/projects/statsd.json\n",
      "package-lock.json\n",
      "package.json\n",
      "['json', 'json', 'yaml', 'yaml', 'yaml', 'yaml', 'github-action', 'github-action', 'github-action', 'yaml', 'json', 'yaml', 'nodejs', 'nodejs', 'tsconfig', 'nodejs', 'nodejs', 'tsconfig', 'nodejs', 'nodejs', 'tsconfig', 'nodejs', 'tsconfig', 'nodejs', 'tsconfig', 'nodejs', 'tsconfig', 'nodejs', 'tsconfig', 'nodejs', 'tsconfig', 'nodejs', 'tsconfig', 'nodejs', 'tsconfig', 'json', 'json', 'nodejs', 'tsconfig', 'nodejs', 'tsconfig', 'nodejs', 'json', 'tsconfig', 'json', 'tsconfig', 'nodejs', 'tsconfig', 'json', 'json', 'json', 'nodejs', 'tsconfig', 'json', 'nodejs', 'nodejs', 'nodejs', 'tsconfig', 'tsconfig', 'nodejs', 'tsconfig', 'nodejs', 'tsconfig', 'nodejs', 'json', 'tsconfig', 'typescript', 'json', 'tsconfig', 'turborepo']\n",
      "Project:  ../data/projects/rrweb.json\n",
      "package.json\n",
      "packages/all/package.json\n",
      "packages/packer/pack/package.json\n",
      "packages/packer/package.json\n",
      "packages/packer/unpack/package.json\n",
      "packages/plugins/rrweb-plugin-canvas-webrtc-record/package.json\n",
      "packages/plugins/rrweb-plugin-canvas-webrtc-replay/package.json\n",
      "packages/plugins/rrweb-plugin-console-record/package.json\n",
      "packages/plugins/rrweb-plugin-console-replay/package.json\n",
      "packages/plugins/rrweb-plugin-sequential-id-record/package.json\n",
      "packages/plugins/rrweb-plugin-sequential-id-replay/package.json\n",
      "packages/record/package.json\n",
      "packages/replay/package.json\n",
      "packages/rrdom-nodejs/package.json\n",
      "packages/rrdom/package.json\n",
      "packages/rrvideo/package.json\n",
      "packages/rrweb-player/package.json\n",
      "packages/rrweb-snapshot/package.json\n",
      "packages/rrweb/package.json\n",
      "packages/rrweb/rrweb-record/package.json\n",
      "packages/rrweb/rrweb-replay/package.json\n",
      "packages/types/package.json\n",
      "packages/utils/package.json\n",
      "packages/web-extension/package.json\n",
      "    Technology  Usage_Count  Total_Projects  Avg_Options_Per_File  Total_Files  Avg_Files_Per_Project\n",
      "       codecov            1               1                  6.00            1                    1.0\n",
      "        docker            2               2                 13.00            3                    1.5\n",
      "docker-compose            1               1                 21.00            1                    1.0\n",
      " github-action            5               5                 43.20            9                    1.8\n",
      "          json            1               1                 21.38           13                   13.0\n",
      "        nodejs            3               3                265.18           27                    9.0\n",
      "        poetry            1               1                  4.00            2                    2.0\n",
      "      tsconfig            1               1                  8.64           22                   22.0\n",
      "     turborepo            1               1                  1.00            1                    1.0\n",
      "    typescript            1               1                  1.00            1                    1.0\n",
      "          yaml            5               5                 18.57          121                   24.2\n"
     ]
    }
   ],
   "source": [
    "import os\n",
    "import json\n",
    "import pandas as pd\n",
    "import glob\n",
    "\n",
    "\n",
    "TECHNOLOGIES_NOT_COVERED = {\n",
    "    \"dependabot.yml\": \"dependabot\",\n",
    "    \"golangco.yml\": \"golangci-lint\",\n",
    "    \"goreleaser.yaml\": \"goreleaser\",\n",
    "    \"codecov.yml\": \"codecov\",\n",
    "    \"package-lock.json\": \"nodejs\",\n",
    "    \"pkgr.yml\": \"pkgr\",\n",
    "    \"tsconfig.base.json\": \"typescript\",\n",
    "    \"eslint.json\": \"eslint\",\n",
    "    \"turbo.json\": \"turborepo\",\n",
    "    \"yarnrc.yml\": \"yarn\"\n",
    "}\n",
    "\n",
    "\n",
    "def get_concepts_from_file_data(file_data):\n",
    "    if file_data[\"concept\"] in [\"json\", \"yaml\"]:\n",
    "        file_name = file_data[\"file_path\"]\n",
    "        if file_name in TECHNOLOGIES_NOT_COVERED:\n",
    "            return TECHNOLOGIES_NOT_COVERED[file_name]\n",
    "        else:\n",
    "            return file_data[\"concept\"]\n",
    "    return file_data[\"concept\"]\n",
    "\n",
    "\n",
    "def extract_latest_commit_data(json_data):\n",
    "    # Fallback to the last commit if no latest is explicitly marked\n",
    "    latest_commit = next((c for c in json_data[\"commit_data\"] if c.get(\"is_latest_commit\")), None)\n",
    "    if not latest_commit and json_data[\"commit_data\"]:\n",
    "        latest_commit = json_data[\"commit_data\"][-1]\n",
    "    return latest_commit\n",
    "\n",
    "def analyze_project_file(filepath):\n",
    "    with open(filepath, 'r') as f:\n",
    "        data = json.load(f)\n",
    "    \n",
    "    latest_commit = extract_latest_commit_data(data)\n",
    "    if not latest_commit:\n",
    "        return []\n",
    "\n",
    "    #concepts = latest_commit[\"network_data\"].get(\"concepts\", [])\n",
    "    config_files = latest_commit[\"network_data\"].get(\"config_file_data\", [])\n",
    "    concepts = [get_concepts_from_file_data(file) for file in config_files]\n",
    "\n",
    "    print(concepts)\n",
    "\n",
    "    file_options = [f.get(\"options\", 0) for f in config_files]\n",
    "    avg_options = round(sum(file_options) / len(file_options), 2) if file_options else 0\n",
    "\n",
    "    result = []\n",
    "    for concept in set(concepts):\n",
    "        files_for_concept = [f for f in config_files if get_concepts_from_file_data(f) == concept]\n",
    "        file_count = len(files_for_concept)\n",
    "        total_options = sum(f.get(\"options\", 0) for f in files_for_concept)\n",
    "        avg_options = round(total_options / file_count, 2) if file_count else 0\n",
    "\n",
    "        # Debugging output\n",
    "        #if concept == \"nodejs\":\n",
    "        #    print(\"Project: \", filepath)\n",
    "        #    for file in files_for_concept:\n",
    "        #        print(file[\"file_path\"])\n",
    "\n",
    "        # Debugging\n",
    "        #if concept == \"yaml\" or concept == \"json\":\n",
    "        #    print(filepath)\n",
    "        #    for file in files_for_concept:\n",
    "        #        print(file[\"file_path\"])\n",
    "\n",
    "        result.append({\n",
    "            \"Project\": data.get(\"project_name\", os.path.basename(filepath)),\n",
    "            \"Technology\": concept,\n",
    "            \"File Count\": file_count,\n",
    "            \"Average Options per File\": avg_options\n",
    "        })\n",
    "    return result\n",
    "\n",
    "    \n",
    "\n",
    "def analyze_all_projects(project_files):\n",
    "    aggregated_data = []\n",
    "    for file_name in project_files:\n",
    "        aggregated_data.extend(analyze_project_file(file_name))\n",
    "    return pd.DataFrame(aggregated_data)\n",
    "\n",
    "\n",
    "project_files = glob.glob(\"../data/projects/*.json\")  # Replace with your actual path\n",
    "df = analyze_all_projects(project_files[:5])\n",
    "\n",
    "# Calculate average files per technology per project\n",
    "tech_proj_file_counts = df.groupby([\"Technology\", \"Project\"])[\"File Count\"].sum().reset_index()\n",
    "avg_files_per_tech_per_proj = tech_proj_file_counts.groupby(\"Technology\")[\"File Count\"].mean().round(2)\n",
    "avg_files_per_tech_per_proj.name = \"Avg_Files_Per_Project\"\n",
    "\n",
    "# Save to CSV or display\n",
    "df_grouped = df.groupby(\"Technology\").agg(\n",
    "    Usage_Count=(\"Technology\", \"count\"),\n",
    "    Total_Projects=(\"Project\", \"nunique\"),\n",
    "    Avg_Options_Per_File=(\"Average Options per File\", \"mean\"),\n",
    "    Total_Files=(\"File Count\", \"sum\")\n",
    ").reset_index()\n",
    "\n",
    "df_grouped[\"Avg_Options_Per_File\"] = df_grouped[\"Avg_Options_Per_File\"].round(2)\n",
    "df_grouped = df_grouped.merge(avg_files_per_tech_per_proj, on=\"Technology\")\n",
    "\n",
    "print(df_grouped.to_string(index=False))\n",
    "df_grouped.to_csv(\"tech_composition_summary.csv\", index=False)\n"
   ]
  }
 ],
 "metadata": {
  "kernelspec": {
   "display_name": "env",
   "language": "python",
   "name": "python3"
  },
  "language_info": {
   "codemirror_mode": {
    "name": "ipython",
    "version": 3
   },
   "file_extension": ".py",
   "mimetype": "text/x-python",
   "name": "python",
   "nbconvert_exporter": "python",
   "pygments_lexer": "ipython3",
   "version": "3.12.10"
  }
 },
 "nbformat": 4,
 "nbformat_minor": 5
}
