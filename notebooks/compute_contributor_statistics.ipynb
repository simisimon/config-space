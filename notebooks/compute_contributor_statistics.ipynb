{
 "cells": [
  {
   "cell_type": "markdown",
   "metadata": {},
   "source": [
    "**Contributors of Configuration Changes**\n",
    "\n",
    "- Who drives configuration changes?\n",
    "- Are configuration responsibilities are widely shared or concentrated among developers?\n",
    "- Mapping of collaborative dynamic of configuration work\n",
    "\n",
    "- TODO: Try to extract what concepts are changed by a contributor."
   ]
  },
  {
   "cell_type": "code",
   "execution_count": 1,
   "metadata": {},
   "outputs": [],
   "source": [
    "import json\n",
    "\n",
    "data_file = \"../data/analyzed_projects/leaf.json\"\n",
    "\n",
    "with open(data_file, \"r\", encoding=\"utf-8\") as src:\n",
    "    data = json.load(src)"
   ]
  },
  {
   "cell_type": "code",
   "execution_count": null,
   "metadata": {},
   "outputs": [
    {
     "name": "stdout",
     "output_type": "stream",
     "text": [
      "\\begin{tabular}{lrr}\n",
      "\\toprule\n",
      "Contributor & Config Changes & Other Changes \\\\\n",
      "\\midrule\n",
      "Hobofan <goisser94@gmail.com> & 21 & 36 \\\\\n",
      "Homu <homu@barosl.com> & 16 & 28 \\\\\n",
      "MichaelHirn <michael.hirn@storeness.de> & 14 & 21 \\\\\n",
      "Maximilian Goisser <goisser94@gmail.com> & 3 & 3 \\\\\n",
      "MJ Hirn <MichaelHirn@users.noreply.github.com> & 2 & 4 \\\\\n",
      "David Irvine <david.irvine@maidsafe.net> & 1 & 0 \\\\\n",
      "Alexander Morozov <etesial@gmail.com> & 0 & 5 \\\\\n",
      "Pascal Hertleif <killercup@gmail.com> & 0 & 1 \\\\\n",
      "Kyle <kschmit90@gmail.com> & 0 & 1 \\\\\n",
      "Sébastien Lerique <sl@mehho.net> & 0 & 1 \\\\\n",
      "David Schumann <david.schumann@student.hpi.de> & 0 & 1 \\\\\n",
      "Vignesh Mohankumar <vignesh@vigneshmohankumar.com> & 0 & 1 \\\\\n",
      "Arun Kumar <palerdot@users.noreply.github.com> & 0 & 1 \\\\\n",
      "Andrew Bacon <abacon@gmail.com> & 0 & 1 \\\\\n",
      "Michael Hirn (MJ) <MichaelHirn@users.noreply.github.com> & 0 & 1 \\\\\n",
      "Ashley Mannix <ashleymannix@live.com.au> & 0 & 1 \\\\\n",
      "Andrew Murray <radarhere@gmail.com> & 0 & 1 \\\\\n",
      "\\bottomrule\n",
      "\\end{tabular}\n",
      "\n"
     ]
    }
   ],
   "source": [
    "import pandas as pd\n",
    "from typing import List\n",
    "\n",
    "def show_config_contributors(data: List):\n",
    "\n",
    "    commit_data = data[\"config_commit_data\"]\n",
    "    contributor_config_changes = {}\n",
    "    contributor_other_changes = {}\n",
    "\n",
    "    for commit in commit_data:\n",
    "        author = commit[\"author\"]\n",
    "        config_files_changed = any(\n",
    "            \"insertions\" in file or \"deletions\" in file\n",
    "            for file in commit[\"network_data\"][\"config_files_data\"]\n",
    "        ) if commit[\"network_data\"] else None\n",
    "        if author not in contributor_config_changes:\n",
    "            contributor_config_changes[author] = 0\n",
    "        if author not in contributor_other_changes:\n",
    "            contributor_other_changes[author] = 0\n",
    "        \n",
    "        if config_files_changed:\n",
    "            contributor_config_changes[author] += 1\n",
    "        else:\n",
    "            contributor_other_changes[author] += 1\n",
    "\n",
    "    # Combine results into a DataFrame\n",
    "    contributor_changes_combined_df = pd.DataFrame({\n",
    "        \"Contributor\": contributor_config_changes.keys(),\n",
    "        \"Config Changes\": contributor_config_changes.values(),\n",
    "        \"Other Changes\": contributor_other_changes.values()\n",
    "    }).sort_values(by=[\"Config Changes\", \"Other Changes\"], ascending=False)\n",
    "\n",
    "    #print(contributor_changes_combined_df.head(10))\n",
    "\n",
    "    contributor_changes_combined_df.to_csv(f\"../data/figures/{data['project_name']}_contributor.csv\")\n",
    "\n",
    "    latex_code = contributor_changes_combined_df.to_latex(index=False)\n",
    "\n",
    "    print(latex_code) \n",
    "\n",
    "show_config_contributors(data=data)"
   ]
  },
  {
   "cell_type": "markdown",
   "metadata": {},
   "source": [
    "**Taxonomy of configuration changes in X most popular open-source software projects**\n",
    "\n",
    "TODO\n",
    "\n",
    "- increase understading of configuration changes\n",
    "    - which options change frequently?\n",
    "    - what kind of options are added/removed?\n",
    "    - why do these options change frequently? "
   ]
  }
 ],
 "metadata": {
  "kernelspec": {
   "display_name": "env",
   "language": "python",
   "name": "python3"
  },
  "language_info": {
   "codemirror_mode": {
    "name": "ipython",
    "version": 3
   },
   "file_extension": ".py",
   "mimetype": "text/x-python",
   "name": "python",
   "nbconvert_exporter": "python",
   "pygments_lexer": "ipython3",
   "version": "3.10.12"
  }
 },
 "nbformat": 4,
 "nbformat_minor": 2
}
