{
 "cells": [
  {
   "cell_type": "code",
   "execution_count": 21,
   "id": "1b2acf3a",
   "metadata": {},
   "outputs": [],
   "source": [
    "import pandas as pd\n",
    "from collections import Counter\n",
    "\n",
    "project_file = \"../data/projects_final.csv\"\n",
    "\n",
    "df = pd.read_csv(project_file)"
   ]
  },
  {
   "cell_type": "code",
   "execution_count": 22,
   "id": "f2bb4faa",
   "metadata": {},
   "outputs": [
    {
     "name": "stdout",
     "output_type": "stream",
     "text": [
      "DataFrame-Informationen:\n",
      "Anzahl Zeilen: 1148\n",
      "Anzahl Spalten: 16\n",
      "\n",
      "Spalten:\n",
      "['name', 'full_name', 'html_url', 'description', 'created_at', 'updated_at', 'size', 'stargazers_count', 'language', 'topics', 'default_branch', 'archived', 'Updated_in_last_30_days', 'relevance', 'last_commit_date', 'updated_recently']\n",
      "\n",
      "Erste 5 Zeilen:\n"
     ]
    },
    {
     "name": "stdout",
     "output_type": "stream",
     "text": [
      "DataFrame-Informationen:\n",
      "Anzahl Zeilen: 1148\n",
      "Anzahl Spalten: 16\n",
      "\n",
      "Spalten:\n",
      "['name', 'full_name', 'html_url', 'description', 'created_at', 'updated_at', 'size', 'stargazers_count', 'language', 'topics', 'default_branch', 'archived', 'Updated_in_last_30_days', 'relevance', 'last_commit_date', 'updated_recently']\n",
      "\n",
      "Erste 5 Zeilen:\n"
     ]
    },
    {
     "data": {
      "text/html": [
       "<div>\n",
       "<style scoped>\n",
       "    .dataframe tbody tr th:only-of-type {\n",
       "        vertical-align: middle;\n",
       "    }\n",
       "\n",
       "    .dataframe tbody tr th {\n",
       "        vertical-align: top;\n",
       "    }\n",
       "\n",
       "    .dataframe thead th {\n",
       "        text-align: right;\n",
       "    }\n",
       "</style>\n",
       "<table border=\"1\" class=\"dataframe\">\n",
       "  <thead>\n",
       "    <tr style=\"text-align: right;\">\n",
       "      <th></th>\n",
       "      <th>name</th>\n",
       "      <th>full_name</th>\n",
       "      <th>html_url</th>\n",
       "      <th>description</th>\n",
       "      <th>created_at</th>\n",
       "      <th>updated_at</th>\n",
       "      <th>size</th>\n",
       "      <th>stargazers_count</th>\n",
       "      <th>language</th>\n",
       "      <th>topics</th>\n",
       "      <th>default_branch</th>\n",
       "      <th>archived</th>\n",
       "      <th>Updated_in_last_30_days</th>\n",
       "      <th>relevance</th>\n",
       "      <th>last_commit_date</th>\n",
       "      <th>updated_recently</th>\n",
       "    </tr>\n",
       "  </thead>\n",
       "  <tbody>\n",
       "    <tr>\n",
       "      <th>0</th>\n",
       "      <td>react</td>\n",
       "      <td>facebook/react</td>\n",
       "      <td>https://github.com/facebook/react</td>\n",
       "      <td>The library for web and native user interfaces.</td>\n",
       "      <td>2013-05-24T16:15:54Z</td>\n",
       "      <td>2025-06-18 08:01:32</td>\n",
       "      <td>1018895</td>\n",
       "      <td>236480</td>\n",
       "      <td>JavaScript</td>\n",
       "      <td>['declarative', 'frontend', 'javascript', 'lib...</td>\n",
       "      <td>main</td>\n",
       "      <td>False</td>\n",
       "      <td>yes</td>\n",
       "      <td>y</td>\n",
       "      <td>2025-06-20T12:21:57Z</td>\n",
       "      <td>True</td>\n",
       "    </tr>\n",
       "    <tr>\n",
       "      <th>1</th>\n",
       "      <td>linux</td>\n",
       "      <td>torvalds/linux</td>\n",
       "      <td>https://github.com/torvalds/linux</td>\n",
       "      <td>Linux kernel source tree</td>\n",
       "      <td>2011-09-04T22:48:12Z</td>\n",
       "      <td>2025-06-18 08:13:37</td>\n",
       "      <td>5602805</td>\n",
       "      <td>195902</td>\n",
       "      <td>C</td>\n",
       "      <td>[]</td>\n",
       "      <td>master</td>\n",
       "      <td>False</td>\n",
       "      <td>yes</td>\n",
       "      <td>y</td>\n",
       "      <td>2025-06-20T06:29:35Z</td>\n",
       "      <td>True</td>\n",
       "    </tr>\n",
       "    <tr>\n",
       "      <th>2</th>\n",
       "      <td>tensorflow</td>\n",
       "      <td>tensorflow/tensorflow</td>\n",
       "      <td>https://github.com/tensorflow/tensorflow</td>\n",
       "      <td>An Open Source Machine Learning Framework for ...</td>\n",
       "      <td>2015-11-07T01:19:20Z</td>\n",
       "      <td>2025-06-18 07:46:01</td>\n",
       "      <td>1169787</td>\n",
       "      <td>190392</td>\n",
       "      <td>C++</td>\n",
       "      <td>['deep-learning', 'deep-neural-networks', 'dis...</td>\n",
       "      <td>master</td>\n",
       "      <td>False</td>\n",
       "      <td>yes</td>\n",
       "      <td>y</td>\n",
       "      <td>2025-06-20T12:00:18Z</td>\n",
       "      <td>True</td>\n",
       "    </tr>\n",
       "    <tr>\n",
       "      <th>3</th>\n",
       "      <td>ohmyzsh</td>\n",
       "      <td>ohmyzsh/ohmyzsh</td>\n",
       "      <td>https://github.com/ohmyzsh/ohmyzsh</td>\n",
       "      <td>🙃   A delightful community-driven (with 2,400+...</td>\n",
       "      <td>2009-08-28T18:15:37Z</td>\n",
       "      <td>2025-06-18 07:45:31</td>\n",
       "      <td>12877</td>\n",
       "      <td>179265</td>\n",
       "      <td>Shell</td>\n",
       "      <td>['cli', 'cli-app', 'hacktoberfest', 'oh-my-zsh...</td>\n",
       "      <td>master</td>\n",
       "      <td>False</td>\n",
       "      <td>yes</td>\n",
       "      <td>y</td>\n",
       "      <td>2025-06-19T08:05:40Z</td>\n",
       "      <td>True</td>\n",
       "    </tr>\n",
       "    <tr>\n",
       "      <th>4</th>\n",
       "      <td>AutoGPT</td>\n",
       "      <td>Significant-Gravitas/AutoGPT</td>\n",
       "      <td>https://github.com/Significant-Gravitas/AutoGPT</td>\n",
       "      <td>AutoGPT is the vision of accessible AI for eve...</td>\n",
       "      <td>2023-03-16T09:21:07Z</td>\n",
       "      <td>2025-06-18 08:13:57</td>\n",
       "      <td>255839</td>\n",
       "      <td>176240</td>\n",
       "      <td>Python</td>\n",
       "      <td>['ai', 'artificial-intelligence', 'autonomous-...</td>\n",
       "      <td>master</td>\n",
       "      <td>False</td>\n",
       "      <td>yes</td>\n",
       "      <td>y</td>\n",
       "      <td>2025-06-18T15:53:01Z</td>\n",
       "      <td>True</td>\n",
       "    </tr>\n",
       "  </tbody>\n",
       "</table>\n",
       "</div>"
      ],
      "text/plain": [
       "         name                     full_name  \\\n",
       "0       react                facebook/react   \n",
       "1       linux                torvalds/linux   \n",
       "2  tensorflow         tensorflow/tensorflow   \n",
       "3     ohmyzsh               ohmyzsh/ohmyzsh   \n",
       "4     AutoGPT  Significant-Gravitas/AutoGPT   \n",
       "\n",
       "                                          html_url  \\\n",
       "0                https://github.com/facebook/react   \n",
       "1                https://github.com/torvalds/linux   \n",
       "2         https://github.com/tensorflow/tensorflow   \n",
       "3               https://github.com/ohmyzsh/ohmyzsh   \n",
       "4  https://github.com/Significant-Gravitas/AutoGPT   \n",
       "\n",
       "                                         description            created_at  \\\n",
       "0    The library for web and native user interfaces.  2013-05-24T16:15:54Z   \n",
       "1                           Linux kernel source tree  2011-09-04T22:48:12Z   \n",
       "2  An Open Source Machine Learning Framework for ...  2015-11-07T01:19:20Z   \n",
       "3  🙃   A delightful community-driven (with 2,400+...  2009-08-28T18:15:37Z   \n",
       "4  AutoGPT is the vision of accessible AI for eve...  2023-03-16T09:21:07Z   \n",
       "\n",
       "            updated_at     size  stargazers_count    language  \\\n",
       "0  2025-06-18 08:01:32  1018895            236480  JavaScript   \n",
       "1  2025-06-18 08:13:37  5602805            195902           C   \n",
       "2  2025-06-18 07:46:01  1169787            190392         C++   \n",
       "3  2025-06-18 07:45:31    12877            179265       Shell   \n",
       "4  2025-06-18 08:13:57   255839            176240      Python   \n",
       "\n",
       "                                              topics default_branch  archived  \\\n",
       "0  ['declarative', 'frontend', 'javascript', 'lib...           main     False   \n",
       "1                                                 []         master     False   \n",
       "2  ['deep-learning', 'deep-neural-networks', 'dis...         master     False   \n",
       "3  ['cli', 'cli-app', 'hacktoberfest', 'oh-my-zsh...         master     False   \n",
       "4  ['ai', 'artificial-intelligence', 'autonomous-...         master     False   \n",
       "\n",
       "  Updated_in_last_30_days relevance      last_commit_date  updated_recently  \n",
       "0                     yes         y  2025-06-20T12:21:57Z              True  \n",
       "1                     yes         y  2025-06-20T06:29:35Z              True  \n",
       "2                     yes         y  2025-06-20T12:00:18Z              True  \n",
       "3                     yes         y  2025-06-19T08:05:40Z              True  \n",
       "4                     yes         y  2025-06-18T15:53:01Z              True  "
      ]
     },
     "execution_count": 22,
     "metadata": {},
     "output_type": "execute_result"
    }
   ],
   "source": [
    "# Datenstruktur analysieren\n",
    "print(\"DataFrame-Informationen:\")\n",
    "print(f\"Anzahl Zeilen: {len(df)}\")\n",
    "print(f\"Anzahl Spalten: {len(df.columns)}\")\n",
    "print(\"\\nSpalten:\")\n",
    "print(df.columns.tolist())\n",
    "print(\"\\nErste 5 Zeilen:\")\n",
    "df.head()"
   ]
  },
  {
   "cell_type": "code",
   "execution_count": 24,
   "id": "61160925",
   "metadata": {},
   "outputs": [
    {
     "name": "stdout",
     "output_type": "stream",
     "text": [
      "Quelle: GitHub API (Größe in Bytes)\n",
      "\n",
      "Rohdaten (Bytes):\n",
      "   Minimum:                  152 Bytes\n",
      "   Maximum:           55,398,460 Bytes\n",
      "   Durchschnitt:         405,142 Bytes\n",
      "   Median:                67,295 Bytes\n",
      "\n",
      "Umgerechnete Werte:\n",
      "   Minimum:             0.1 KB  (   0.000 MB)\n",
      "   Maximum:            52.8 MB  (    0.05 GB)\n",
      "   Durchschnitt:      395.6 KB  (     0.4 MB)\n",
      "   Median:             65.7 KB  (     0.1 MB)\n",
      "\n",
      "Antwort auf die ursprüngliche Frage:\n",
      "   Min:  152 Bytes\n",
      "   Max:  55,398,460 Bytes\n",
      "   Mean: 405,142 Bytes\n"
     ]
    }
   ],
   "source": [
    "# Finale Zusammenfassung der Projektgrößen (korrekte Einheiten)print(\"=\" * 60)\n",
    "print(\"Quelle: GitHub API (Größe in Bytes)\")\n",
    "print()\n",
    "\n",
    "# Min, Max und Mean für Sterne berechnen\n",
    "min_size = df['size'].min()\n",
    "max_size = df['size'].max()\n",
    "mean_size = df['size'].mean()\n",
    "median_size = df['size'].median()\n",
    "\n",
    "# Statistiken in Bytes\n",
    "print(\"Rohdaten (Bytes):\")\n",
    "print(f\"   Minimum:      {min_size:>15,} Bytes\")\n",
    "print(f\"   Maximum:      {max_size:>15,} Bytes\") \n",
    "print(f\"   Durchschnitt: {mean_size:>15,.0f} Bytes\")\n",
    "print(f\"   Median:       {median_size:>15,.0f} Bytes\")\n",
    "print()\n",
    "\n",
    "# Umrechnungen für bessere Lesbarkeit\n",
    "print(\"Umgerechnete Werte:\")\n",
    "print(f\"   Minimum:      {min_size/1024:>10.1f} KB  ({min_size/1024/1024:>8.3f} MB)\")\n",
    "print(f\"   Maximum:      {max_size/1024/1024:>10.1f} MB  ({max_size/1024/1024/1024:>8.2f} GB)\")\n",
    "print(f\"   Durchschnitt: {mean_size/1024:>10.1f} KB  ({mean_size/1024/1024:>8.1f} MB)\")\n",
    "print(f\"   Median:       {median_size/1024:>10.1f} KB  ({median_size/1024/1024:>8.1f} MB)\")\n",
    "print()\n",
    "\n",
    "print(\"Antwort auf die ursprüngliche Frage:\")\n",
    "print(f\"   Min:  {min_size:,} Bytes\")\n",
    "print(f\"   Max:  {max_size:,} Bytes\") \n",
    "print(f\"   Mean: {mean_size:,.0f} Bytes\")"
   ]
  },
  {
   "cell_type": "code",
   "execution_count": 19,
   "id": "bf1c245e",
   "metadata": {},
   "outputs": [
    {
     "name": "stdout",
     "output_type": "stream",
     "text": [
      "Star-Stats\n",
      "============================================================\n",
      "Stern-Statistiken:\n",
      "   Minimum:               17,494 Sterne\n",
      "   Maximum:              236,480 Sterne\n",
      "   Durchschnitt:        35,643.0 Sterne\n",
      "   Median:                27,394 Sterne\n"
     ]
    }
   ],
   "source": [
    "# Statistiken für Anzahl der Sterne (stargazers_count)\n",
    "print(\"Star-Stats\")\n",
    "print(\"=\" * 60)\n",
    "\n",
    "# Min, Max und Mean für Sterne berechnen\n",
    "min_stars = df['stargazers_count'].min()\n",
    "max_stars = df['stargazers_count'].max()\n",
    "mean_stars = df['stargazers_count'].mean()\n",
    "median_stars = df['stargazers_count'].median()\n",
    "\n",
    "print(\"Stern-Statistiken:\")\n",
    "print(f\"   Minimum:      {min_stars:>15,} Sterne\")\n",
    "print(f\"   Maximum:      {max_stars:>15,} Sterne\") \n",
    "print(f\"   Durchschnitt: {mean_stars:>15,.1f} Sterne\")\n",
    "print(f\"   Median:       {median_stars:>15,.0f} Sterne\")\n"
   ]
  },
  {
   "cell_type": "code",
   "execution_count": 26,
   "id": "964da4b0",
   "metadata": {},
   "outputs": [
    {
     "name": "stdout",
     "output_type": "stream",
     "text": [
      "DURCHSCHNITTSWERTE (MEAN/AVERAGE):\n",
      "   Durchschnittliche Projektgröße: 405,142 Bytes\n",
      "   Durchschnittliche Anzahl Sterne: 35,643.0 Sterne\n",
      "\n",
      "UMGERECHNETE DURCHSCHNITTSWERTE:\n",
      "   Durchschnittliche Projektgröße: 395.6 KB (0.4 MB)\n",
      "   Durchschnittliche Anzahl Sterne: 35,643 Sterne\n"
     ]
    }
   ],
   "source": [
    "# Durchschnittswerte berechnen (falls noch nicht vorhanden)\n",
    "avg_size = df['size'].mean()\n",
    "avg_stars = df['stargazers_count'].mean()\n",
    "\n",
    "print(\"DURCHSCHNITTSWERTE (MEAN/AVERAGE):\")\n",
    "print(f\"   Durchschnittliche Projektgröße: {avg_size:,.0f} Bytes\")\n",
    "print(f\"   Durchschnittliche Anzahl Sterne: {avg_stars:,.1f} Sterne\")\n",
    "print()\n",
    "\n",
    "print(\"UMGERECHNETE DURCHSCHNITTSWERTE:\")\n",
    "print(f\"   Durchschnittliche Projektgröße: {avg_size/1024:,.1f} KB ({avg_size/1024/1024:.1f} MB)\")\n",
    "print(f\"   Durchschnittliche Anzahl Sterne: {avg_stars:,.0f} Sterne\")"
   ]
  },
  {
   "cell_type": "code",
   "execution_count": 19,
   "id": "66c2a2cc",
   "metadata": {},
   "outputs": [
    {
     "name": "stdout",
     "output_type": "stream",
     "text": [
      "[(2016, 116), (2015, 110), (2013, 95), (2014, 93), (2020, 84), (2018, 83), (2019, 82), (2023, 80), (2017, 69), (2022, 62)]\n"
     ]
    }
   ],
   "source": [
    "from collections import Counter\n",
    "\n",
    "creation_years= df['created_at'].apply(lambda x: int(x.split(\"-\")[0])).tolist()\n",
    "creation_years_sorted = sorted(creation_years)\n",
    "\n",
    "counter = Counter(creation_years_sorted)\n",
    "print(counter.most_common(10))"
   ]
  },
  {
   "cell_type": "code",
   "execution_count": 9,
   "id": "4089fdd2",
   "metadata": {},
   "outputs": [
    {
     "name": "stdout",
     "output_type": "stream",
     "text": [
      "Number of project files found: 341\n"
     ]
    },
    {
     "name": "stdout",
     "output_type": "stream",
     "text": [
      "Number of project files found: 341\n"
     ]
    },
    {
     "name": "stderr",
     "output_type": "stream",
     "text": [
      "Processing project files:   1%|          | 4/341 [00:39<48:03,  8.56s/file]  "
     ]
    },
    {
     "name": "stdout",
     "output_type": "stream",
     "text": [
      "Number of project files found: 341\n"
     ]
    },
    {
     "name": "stderr",
     "output_type": "stream",
     "text": [
      "Processing project files:   1%|          | 4/341 [00:39<48:03,  8.56s/file]  "
     ]
    },
    {
     "name": "stdout",
     "output_type": "stream",
     "text": [
      "Error processing ../data/projects/pdf.js.json: Expecting property name enclosed in double quotes: line 250250266 column 7 (char 13817511936)\n"
     ]
    },
    {
     "name": "stderr",
     "output_type": "stream",
     "text": [
      "Processing project files:  14%|█▍        | 48/341 [05:14<44:14,  9.06s/file]  "
     ]
    },
    {
     "name": "stdout",
     "output_type": "stream",
     "text": [
      "Number of project files found: 341\n"
     ]
    },
    {
     "name": "stderr",
     "output_type": "stream",
     "text": [
      "Processing project files:   1%|          | 4/341 [00:39<48:03,  8.56s/file]  "
     ]
    },
    {
     "name": "stdout",
     "output_type": "stream",
     "text": [
      "Error processing ../data/projects/pdf.js.json: Expecting property name enclosed in double quotes: line 250250266 column 7 (char 13817511936)\n"
     ]
    },
    {
     "name": "stderr",
     "output_type": "stream",
     "text": [
      "Processing project files:  14%|█▍        | 48/341 [05:14<44:14,  9.06s/file]  "
     ]
    },
    {
     "name": "stdout",
     "output_type": "stream",
     "text": [
      "Error processing ../data/projects/react-router.json: Unterminated string starting at: line 192756066 column 42 (char 11232903140)\n"
     ]
    },
    {
     "name": "stdout",
     "output_type": "stream",
     "text": [
      "Number of project files found: 341\n"
     ]
    },
    {
     "name": "stderr",
     "output_type": "stream",
     "text": [
      "Processing project files:   1%|          | 4/341 [00:39<48:03,  8.56s/file]  "
     ]
    },
    {
     "name": "stdout",
     "output_type": "stream",
     "text": [
      "Error processing ../data/projects/pdf.js.json: Expecting property name enclosed in double quotes: line 250250266 column 7 (char 13817511936)\n"
     ]
    },
    {
     "name": "stderr",
     "output_type": "stream",
     "text": [
      "Processing project files:  14%|█▍        | 48/341 [05:14<44:14,  9.06s/file]  "
     ]
    },
    {
     "name": "stdout",
     "output_type": "stream",
     "text": [
      "Error processing ../data/projects/react-router.json: Unterminated string starting at: line 192756066 column 42 (char 11232903140)\n"
     ]
    },
    {
     "name": "stderr",
     "output_type": "stream",
     "text": [
      "Processing project files:  21%|██        | 70/341 [07:41<22:05,  4.89s/file]  "
     ]
    },
    {
     "name": "stdout",
     "output_type": "stream",
     "text": [
      "Number of project files found: 341\n"
     ]
    },
    {
     "name": "stderr",
     "output_type": "stream",
     "text": [
      "Processing project files:   1%|          | 4/341 [00:39<48:03,  8.56s/file]  "
     ]
    },
    {
     "name": "stdout",
     "output_type": "stream",
     "text": [
      "Error processing ../data/projects/pdf.js.json: Expecting property name enclosed in double quotes: line 250250266 column 7 (char 13817511936)\n"
     ]
    },
    {
     "name": "stderr",
     "output_type": "stream",
     "text": [
      "Processing project files:  14%|█▍        | 48/341 [05:14<44:14,  9.06s/file]  "
     ]
    },
    {
     "name": "stdout",
     "output_type": "stream",
     "text": [
      "Error processing ../data/projects/react-router.json: Unterminated string starting at: line 192756066 column 42 (char 11232903140)\n"
     ]
    },
    {
     "name": "stderr",
     "output_type": "stream",
     "text": [
      "Processing project files:  21%|██        | 70/341 [07:41<22:05,  4.89s/file]  "
     ]
    },
    {
     "name": "stdout",
     "output_type": "stream",
     "text": [
      "Error processing ../data/projects/svelte.json: Expecting property name enclosed in double quotes: line 67840123 column 1 (char 3716677632)\n"
     ]
    },
    {
     "name": "stderr",
     "output_type": "stream",
     "text": [
      "Processing project files:  22%|██▏       | 75/341 [07:50<13:00,  2.93s/file]"
     ]
    },
    {
     "name": "stdout",
     "output_type": "stream",
     "text": [
      "Number of project files found: 341\n"
     ]
    },
    {
     "name": "stderr",
     "output_type": "stream",
     "text": [
      "Processing project files:   1%|          | 4/341 [00:39<48:03,  8.56s/file]  "
     ]
    },
    {
     "name": "stdout",
     "output_type": "stream",
     "text": [
      "Error processing ../data/projects/pdf.js.json: Expecting property name enclosed in double quotes: line 250250266 column 7 (char 13817511936)\n"
     ]
    },
    {
     "name": "stderr",
     "output_type": "stream",
     "text": [
      "Processing project files:  14%|█▍        | 48/341 [05:14<44:14,  9.06s/file]  "
     ]
    },
    {
     "name": "stdout",
     "output_type": "stream",
     "text": [
      "Error processing ../data/projects/react-router.json: Unterminated string starting at: line 192756066 column 42 (char 11232903140)\n"
     ]
    },
    {
     "name": "stderr",
     "output_type": "stream",
     "text": [
      "Processing project files:  21%|██        | 70/341 [07:41<22:05,  4.89s/file]  "
     ]
    },
    {
     "name": "stdout",
     "output_type": "stream",
     "text": [
      "Error processing ../data/projects/svelte.json: Expecting property name enclosed in double quotes: line 67840123 column 1 (char 3716677632)\n"
     ]
    },
    {
     "name": "stderr",
     "output_type": "stream",
     "text": [
      "Processing project files:  22%|██▏       | 75/341 [07:50<13:00,  2.93s/file]"
     ]
    },
    {
     "name": "stdout",
     "output_type": "stream",
     "text": [
      "Error processing ../data/projects/nuxt.json: Expecting property name enclosed in double quotes: line 26373371 column 32 (char 1420902400)\n"
     ]
    },
    {
     "name": "stderr",
     "output_type": "stream",
     "text": [
      "Processing project files:  24%|██▍       | 82/341 [10:06<1:38:28, 22.81s/file]"
     ]
    },
    {
     "name": "stdout",
     "output_type": "stream",
     "text": [
      "Number of project files found: 341\n"
     ]
    },
    {
     "name": "stderr",
     "output_type": "stream",
     "text": [
      "Processing project files:   1%|          | 4/341 [00:39<48:03,  8.56s/file]  "
     ]
    },
    {
     "name": "stdout",
     "output_type": "stream",
     "text": [
      "Error processing ../data/projects/pdf.js.json: Expecting property name enclosed in double quotes: line 250250266 column 7 (char 13817511936)\n"
     ]
    },
    {
     "name": "stderr",
     "output_type": "stream",
     "text": [
      "Processing project files:  14%|█▍        | 48/341 [05:14<44:14,  9.06s/file]  "
     ]
    },
    {
     "name": "stdout",
     "output_type": "stream",
     "text": [
      "Error processing ../data/projects/react-router.json: Unterminated string starting at: line 192756066 column 42 (char 11232903140)\n"
     ]
    },
    {
     "name": "stderr",
     "output_type": "stream",
     "text": [
      "Processing project files:  21%|██        | 70/341 [07:41<22:05,  4.89s/file]  "
     ]
    },
    {
     "name": "stdout",
     "output_type": "stream",
     "text": [
      "Error processing ../data/projects/svelte.json: Expecting property name enclosed in double quotes: line 67840123 column 1 (char 3716677632)\n"
     ]
    },
    {
     "name": "stderr",
     "output_type": "stream",
     "text": [
      "Processing project files:  22%|██▏       | 75/341 [07:50<13:00,  2.93s/file]"
     ]
    },
    {
     "name": "stdout",
     "output_type": "stream",
     "text": [
      "Error processing ../data/projects/nuxt.json: Expecting property name enclosed in double quotes: line 26373371 column 32 (char 1420902400)\n"
     ]
    },
    {
     "name": "stderr",
     "output_type": "stream",
     "text": [
      "Processing project files:  24%|██▍       | 82/341 [10:06<1:38:28, 22.81s/file]"
     ]
    },
    {
     "name": "stdout",
     "output_type": "stream",
     "text": [
      "Error processing ../data/projects/etherpad-lite.json: Expecting property name enclosed in double quotes: line 261315793 column 12 (char 14886502400)\n"
     ]
    },
    {
     "name": "stderr",
     "output_type": "stream",
     "text": [
      "Processing project files:  36%|███▌      | 122/341 [13:27<25:02,  6.86s/file] "
     ]
    },
    {
     "name": "stdout",
     "output_type": "stream",
     "text": [
      "Number of project files found: 341\n"
     ]
    },
    {
     "name": "stderr",
     "output_type": "stream",
     "text": [
      "Processing project files:   1%|          | 4/341 [00:39<48:03,  8.56s/file]  "
     ]
    },
    {
     "name": "stdout",
     "output_type": "stream",
     "text": [
      "Error processing ../data/projects/pdf.js.json: Expecting property name enclosed in double quotes: line 250250266 column 7 (char 13817511936)\n"
     ]
    },
    {
     "name": "stderr",
     "output_type": "stream",
     "text": [
      "Processing project files:  14%|█▍        | 48/341 [05:14<44:14,  9.06s/file]  "
     ]
    },
    {
     "name": "stdout",
     "output_type": "stream",
     "text": [
      "Error processing ../data/projects/react-router.json: Unterminated string starting at: line 192756066 column 42 (char 11232903140)\n"
     ]
    },
    {
     "name": "stderr",
     "output_type": "stream",
     "text": [
      "Processing project files:  21%|██        | 70/341 [07:41<22:05,  4.89s/file]  "
     ]
    },
    {
     "name": "stdout",
     "output_type": "stream",
     "text": [
      "Error processing ../data/projects/svelte.json: Expecting property name enclosed in double quotes: line 67840123 column 1 (char 3716677632)\n"
     ]
    },
    {
     "name": "stderr",
     "output_type": "stream",
     "text": [
      "Processing project files:  22%|██▏       | 75/341 [07:50<13:00,  2.93s/file]"
     ]
    },
    {
     "name": "stdout",
     "output_type": "stream",
     "text": [
      "Error processing ../data/projects/nuxt.json: Expecting property name enclosed in double quotes: line 26373371 column 32 (char 1420902400)\n"
     ]
    },
    {
     "name": "stderr",
     "output_type": "stream",
     "text": [
      "Processing project files:  24%|██▍       | 82/341 [10:06<1:38:28, 22.81s/file]"
     ]
    },
    {
     "name": "stdout",
     "output_type": "stream",
     "text": [
      "Error processing ../data/projects/etherpad-lite.json: Expecting property name enclosed in double quotes: line 261315793 column 12 (char 14886502400)\n"
     ]
    },
    {
     "name": "stderr",
     "output_type": "stream",
     "text": [
      "Processing project files:  36%|███▌      | 122/341 [13:27<25:02,  6.86s/file] "
     ]
    },
    {
     "name": "stdout",
     "output_type": "stream",
     "text": [
      "Error processing ../data/projects/puppeteer.json: Expecting property name enclosed in double quotes: line 55614998 column 27 (char 3179577344)\n"
     ]
    },
    {
     "name": "stderr",
     "output_type": "stream",
     "text": [
      "Processing project files:  49%|████▊     | 166/341 [17:07<25:04,  8.60s/file]  "
     ]
    },
    {
     "name": "stdout",
     "output_type": "stream",
     "text": [
      "Number of project files found: 341\n"
     ]
    },
    {
     "name": "stderr",
     "output_type": "stream",
     "text": [
      "Processing project files:   1%|          | 4/341 [00:39<48:03,  8.56s/file]  "
     ]
    },
    {
     "name": "stdout",
     "output_type": "stream",
     "text": [
      "Error processing ../data/projects/pdf.js.json: Expecting property name enclosed in double quotes: line 250250266 column 7 (char 13817511936)\n"
     ]
    },
    {
     "name": "stderr",
     "output_type": "stream",
     "text": [
      "Processing project files:  14%|█▍        | 48/341 [05:14<44:14,  9.06s/file]  "
     ]
    },
    {
     "name": "stdout",
     "output_type": "stream",
     "text": [
      "Error processing ../data/projects/react-router.json: Unterminated string starting at: line 192756066 column 42 (char 11232903140)\n"
     ]
    },
    {
     "name": "stderr",
     "output_type": "stream",
     "text": [
      "Processing project files:  21%|██        | 70/341 [07:41<22:05,  4.89s/file]  "
     ]
    },
    {
     "name": "stdout",
     "output_type": "stream",
     "text": [
      "Error processing ../data/projects/svelte.json: Expecting property name enclosed in double quotes: line 67840123 column 1 (char 3716677632)\n"
     ]
    },
    {
     "name": "stderr",
     "output_type": "stream",
     "text": [
      "Processing project files:  22%|██▏       | 75/341 [07:50<13:00,  2.93s/file]"
     ]
    },
    {
     "name": "stdout",
     "output_type": "stream",
     "text": [
      "Error processing ../data/projects/nuxt.json: Expecting property name enclosed in double quotes: line 26373371 column 32 (char 1420902400)\n"
     ]
    },
    {
     "name": "stderr",
     "output_type": "stream",
     "text": [
      "Processing project files:  24%|██▍       | 82/341 [10:06<1:38:28, 22.81s/file]"
     ]
    },
    {
     "name": "stdout",
     "output_type": "stream",
     "text": [
      "Error processing ../data/projects/etherpad-lite.json: Expecting property name enclosed in double quotes: line 261315793 column 12 (char 14886502400)\n"
     ]
    },
    {
     "name": "stderr",
     "output_type": "stream",
     "text": [
      "Processing project files:  36%|███▌      | 122/341 [13:27<25:02,  6.86s/file] "
     ]
    },
    {
     "name": "stdout",
     "output_type": "stream",
     "text": [
      "Error processing ../data/projects/puppeteer.json: Expecting property name enclosed in double quotes: line 55614998 column 27 (char 3179577344)\n"
     ]
    },
    {
     "name": "stderr",
     "output_type": "stream",
     "text": [
      "Processing project files:  49%|████▊     | 166/341 [17:07<25:04,  8.60s/file]  "
     ]
    },
    {
     "name": "stdout",
     "output_type": "stream",
     "text": [
      "Error processing ../data/projects/etcd.json: Expecting property name enclosed in double quotes: line 6955150 column 45 (char 386056192)\n"
     ]
    },
    {
     "name": "stderr",
     "output_type": "stream",
     "text": [
      "Processing project files:  62%|██████▏   | 212/341 [20:44<07:08,  3.32s/file]"
     ]
    },
    {
     "name": "stdout",
     "output_type": "stream",
     "text": [
      "Number of project files found: 341\n"
     ]
    },
    {
     "name": "stderr",
     "output_type": "stream",
     "text": [
      "Processing project files:   1%|          | 4/341 [00:39<48:03,  8.56s/file]  "
     ]
    },
    {
     "name": "stdout",
     "output_type": "stream",
     "text": [
      "Error processing ../data/projects/pdf.js.json: Expecting property name enclosed in double quotes: line 250250266 column 7 (char 13817511936)\n"
     ]
    },
    {
     "name": "stderr",
     "output_type": "stream",
     "text": [
      "Processing project files:  14%|█▍        | 48/341 [05:14<44:14,  9.06s/file]  "
     ]
    },
    {
     "name": "stdout",
     "output_type": "stream",
     "text": [
      "Error processing ../data/projects/react-router.json: Unterminated string starting at: line 192756066 column 42 (char 11232903140)\n"
     ]
    },
    {
     "name": "stderr",
     "output_type": "stream",
     "text": [
      "Processing project files:  21%|██        | 70/341 [07:41<22:05,  4.89s/file]  "
     ]
    },
    {
     "name": "stdout",
     "output_type": "stream",
     "text": [
      "Error processing ../data/projects/svelte.json: Expecting property name enclosed in double quotes: line 67840123 column 1 (char 3716677632)\n"
     ]
    },
    {
     "name": "stderr",
     "output_type": "stream",
     "text": [
      "Processing project files:  22%|██▏       | 75/341 [07:50<13:00,  2.93s/file]"
     ]
    },
    {
     "name": "stdout",
     "output_type": "stream",
     "text": [
      "Error processing ../data/projects/nuxt.json: Expecting property name enclosed in double quotes: line 26373371 column 32 (char 1420902400)\n"
     ]
    },
    {
     "name": "stderr",
     "output_type": "stream",
     "text": [
      "Processing project files:  24%|██▍       | 82/341 [10:06<1:38:28, 22.81s/file]"
     ]
    },
    {
     "name": "stdout",
     "output_type": "stream",
     "text": [
      "Error processing ../data/projects/etherpad-lite.json: Expecting property name enclosed in double quotes: line 261315793 column 12 (char 14886502400)\n"
     ]
    },
    {
     "name": "stderr",
     "output_type": "stream",
     "text": [
      "Processing project files:  36%|███▌      | 122/341 [13:27<25:02,  6.86s/file] "
     ]
    },
    {
     "name": "stdout",
     "output_type": "stream",
     "text": [
      "Error processing ../data/projects/puppeteer.json: Expecting property name enclosed in double quotes: line 55614998 column 27 (char 3179577344)\n"
     ]
    },
    {
     "name": "stderr",
     "output_type": "stream",
     "text": [
      "Processing project files:  49%|████▊     | 166/341 [17:07<25:04,  8.60s/file]  "
     ]
    },
    {
     "name": "stdout",
     "output_type": "stream",
     "text": [
      "Error processing ../data/projects/etcd.json: Expecting property name enclosed in double quotes: line 6955150 column 45 (char 386056192)\n"
     ]
    },
    {
     "name": "stderr",
     "output_type": "stream",
     "text": [
      "Processing project files:  62%|██████▏   | 212/341 [20:44<07:08,  3.32s/file]"
     ]
    },
    {
     "name": "stdout",
     "output_type": "stream",
     "text": [
      "Error processing ../data/projects/terraform.json: Expecting property name enclosed in double quotes: line 17282592 column 22 (char 1038368768)\n"
     ]
    },
    {
     "name": "stdout",
     "output_type": "stream",
     "text": [
      "Number of project files found: 341\n"
     ]
    },
    {
     "name": "stderr",
     "output_type": "stream",
     "text": [
      "Processing project files:   1%|          | 4/341 [00:39<48:03,  8.56s/file]  "
     ]
    },
    {
     "name": "stdout",
     "output_type": "stream",
     "text": [
      "Error processing ../data/projects/pdf.js.json: Expecting property name enclosed in double quotes: line 250250266 column 7 (char 13817511936)\n"
     ]
    },
    {
     "name": "stderr",
     "output_type": "stream",
     "text": [
      "Processing project files:  14%|█▍        | 48/341 [05:14<44:14,  9.06s/file]  "
     ]
    },
    {
     "name": "stdout",
     "output_type": "stream",
     "text": [
      "Error processing ../data/projects/react-router.json: Unterminated string starting at: line 192756066 column 42 (char 11232903140)\n"
     ]
    },
    {
     "name": "stderr",
     "output_type": "stream",
     "text": [
      "Processing project files:  21%|██        | 70/341 [07:41<22:05,  4.89s/file]  "
     ]
    },
    {
     "name": "stdout",
     "output_type": "stream",
     "text": [
      "Error processing ../data/projects/svelte.json: Expecting property name enclosed in double quotes: line 67840123 column 1 (char 3716677632)\n"
     ]
    },
    {
     "name": "stderr",
     "output_type": "stream",
     "text": [
      "Processing project files:  22%|██▏       | 75/341 [07:50<13:00,  2.93s/file]"
     ]
    },
    {
     "name": "stdout",
     "output_type": "stream",
     "text": [
      "Error processing ../data/projects/nuxt.json: Expecting property name enclosed in double quotes: line 26373371 column 32 (char 1420902400)\n"
     ]
    },
    {
     "name": "stderr",
     "output_type": "stream",
     "text": [
      "Processing project files:  24%|██▍       | 82/341 [10:06<1:38:28, 22.81s/file]"
     ]
    },
    {
     "name": "stdout",
     "output_type": "stream",
     "text": [
      "Error processing ../data/projects/etherpad-lite.json: Expecting property name enclosed in double quotes: line 261315793 column 12 (char 14886502400)\n"
     ]
    },
    {
     "name": "stderr",
     "output_type": "stream",
     "text": [
      "Processing project files:  36%|███▌      | 122/341 [13:27<25:02,  6.86s/file] "
     ]
    },
    {
     "name": "stdout",
     "output_type": "stream",
     "text": [
      "Error processing ../data/projects/puppeteer.json: Expecting property name enclosed in double quotes: line 55614998 column 27 (char 3179577344)\n"
     ]
    },
    {
     "name": "stderr",
     "output_type": "stream",
     "text": [
      "Processing project files:  49%|████▊     | 166/341 [17:07<25:04,  8.60s/file]  "
     ]
    },
    {
     "name": "stdout",
     "output_type": "stream",
     "text": [
      "Error processing ../data/projects/etcd.json: Expecting property name enclosed in double quotes: line 6955150 column 45 (char 386056192)\n"
     ]
    },
    {
     "name": "stderr",
     "output_type": "stream",
     "text": [
      "Processing project files:  62%|██████▏   | 212/341 [20:44<07:08,  3.32s/file]"
     ]
    },
    {
     "name": "stdout",
     "output_type": "stream",
     "text": [
      "Error processing ../data/projects/terraform.json: Expecting property name enclosed in double quotes: line 17282592 column 22 (char 1038368768)\n"
     ]
    },
    {
     "name": "stderr",
     "output_type": "stream",
     "text": [
      "Processing project files:  69%|██████▉   | 236/341 [22:19<08:42,  4.98s/file]"
     ]
    },
    {
     "name": "stdout",
     "output_type": "stream",
     "text": [
      "Number of project files found: 341\n"
     ]
    },
    {
     "name": "stderr",
     "output_type": "stream",
     "text": [
      "Processing project files:   1%|          | 4/341 [00:39<48:03,  8.56s/file]  "
     ]
    },
    {
     "name": "stdout",
     "output_type": "stream",
     "text": [
      "Error processing ../data/projects/pdf.js.json: Expecting property name enclosed in double quotes: line 250250266 column 7 (char 13817511936)\n"
     ]
    },
    {
     "name": "stderr",
     "output_type": "stream",
     "text": [
      "Processing project files:  14%|█▍        | 48/341 [05:14<44:14,  9.06s/file]  "
     ]
    },
    {
     "name": "stdout",
     "output_type": "stream",
     "text": [
      "Error processing ../data/projects/react-router.json: Unterminated string starting at: line 192756066 column 42 (char 11232903140)\n"
     ]
    },
    {
     "name": "stderr",
     "output_type": "stream",
     "text": [
      "Processing project files:  21%|██        | 70/341 [07:41<22:05,  4.89s/file]  "
     ]
    },
    {
     "name": "stdout",
     "output_type": "stream",
     "text": [
      "Error processing ../data/projects/svelte.json: Expecting property name enclosed in double quotes: line 67840123 column 1 (char 3716677632)\n"
     ]
    },
    {
     "name": "stderr",
     "output_type": "stream",
     "text": [
      "Processing project files:  22%|██▏       | 75/341 [07:50<13:00,  2.93s/file]"
     ]
    },
    {
     "name": "stdout",
     "output_type": "stream",
     "text": [
      "Error processing ../data/projects/nuxt.json: Expecting property name enclosed in double quotes: line 26373371 column 32 (char 1420902400)\n"
     ]
    },
    {
     "name": "stderr",
     "output_type": "stream",
     "text": [
      "Processing project files:  24%|██▍       | 82/341 [10:06<1:38:28, 22.81s/file]"
     ]
    },
    {
     "name": "stdout",
     "output_type": "stream",
     "text": [
      "Error processing ../data/projects/etherpad-lite.json: Expecting property name enclosed in double quotes: line 261315793 column 12 (char 14886502400)\n"
     ]
    },
    {
     "name": "stderr",
     "output_type": "stream",
     "text": [
      "Processing project files:  36%|███▌      | 122/341 [13:27<25:02,  6.86s/file] "
     ]
    },
    {
     "name": "stdout",
     "output_type": "stream",
     "text": [
      "Error processing ../data/projects/puppeteer.json: Expecting property name enclosed in double quotes: line 55614998 column 27 (char 3179577344)\n"
     ]
    },
    {
     "name": "stderr",
     "output_type": "stream",
     "text": [
      "Processing project files:  49%|████▊     | 166/341 [17:07<25:04,  8.60s/file]  "
     ]
    },
    {
     "name": "stdout",
     "output_type": "stream",
     "text": [
      "Error processing ../data/projects/etcd.json: Expecting property name enclosed in double quotes: line 6955150 column 45 (char 386056192)\n"
     ]
    },
    {
     "name": "stderr",
     "output_type": "stream",
     "text": [
      "Processing project files:  62%|██████▏   | 212/341 [20:44<07:08,  3.32s/file]"
     ]
    },
    {
     "name": "stdout",
     "output_type": "stream",
     "text": [
      "Error processing ../data/projects/terraform.json: Expecting property name enclosed in double quotes: line 17282592 column 22 (char 1038368768)\n"
     ]
    },
    {
     "name": "stderr",
     "output_type": "stream",
     "text": [
      "Processing project files:  69%|██████▉   | 236/341 [22:19<08:42,  4.98s/file]"
     ]
    },
    {
     "name": "stdout",
     "output_type": "stream",
     "text": [
      "Error processing ../data/projects/vuetify.json: Unterminated string starting at: line 375152421 column 33 (char 22859759614)\n"
     ]
    },
    {
     "name": "stderr",
     "output_type": "stream",
     "text": [
      "Processing project files:  72%|███████▏  | 245/341 [23:49<09:30,  5.94s/file]"
     ]
    },
    {
     "name": "stdout",
     "output_type": "stream",
     "text": [
      "Number of project files found: 341\n"
     ]
    },
    {
     "name": "stderr",
     "output_type": "stream",
     "text": [
      "Processing project files:   1%|          | 4/341 [00:39<48:03,  8.56s/file]  "
     ]
    },
    {
     "name": "stdout",
     "output_type": "stream",
     "text": [
      "Error processing ../data/projects/pdf.js.json: Expecting property name enclosed in double quotes: line 250250266 column 7 (char 13817511936)\n"
     ]
    },
    {
     "name": "stderr",
     "output_type": "stream",
     "text": [
      "Processing project files:  14%|█▍        | 48/341 [05:14<44:14,  9.06s/file]  "
     ]
    },
    {
     "name": "stdout",
     "output_type": "stream",
     "text": [
      "Error processing ../data/projects/react-router.json: Unterminated string starting at: line 192756066 column 42 (char 11232903140)\n"
     ]
    },
    {
     "name": "stderr",
     "output_type": "stream",
     "text": [
      "Processing project files:  21%|██        | 70/341 [07:41<22:05,  4.89s/file]  "
     ]
    },
    {
     "name": "stdout",
     "output_type": "stream",
     "text": [
      "Error processing ../data/projects/svelte.json: Expecting property name enclosed in double quotes: line 67840123 column 1 (char 3716677632)\n"
     ]
    },
    {
     "name": "stderr",
     "output_type": "stream",
     "text": [
      "Processing project files:  22%|██▏       | 75/341 [07:50<13:00,  2.93s/file]"
     ]
    },
    {
     "name": "stdout",
     "output_type": "stream",
     "text": [
      "Error processing ../data/projects/nuxt.json: Expecting property name enclosed in double quotes: line 26373371 column 32 (char 1420902400)\n"
     ]
    },
    {
     "name": "stderr",
     "output_type": "stream",
     "text": [
      "Processing project files:  24%|██▍       | 82/341 [10:06<1:38:28, 22.81s/file]"
     ]
    },
    {
     "name": "stdout",
     "output_type": "stream",
     "text": [
      "Error processing ../data/projects/etherpad-lite.json: Expecting property name enclosed in double quotes: line 261315793 column 12 (char 14886502400)\n"
     ]
    },
    {
     "name": "stderr",
     "output_type": "stream",
     "text": [
      "Processing project files:  36%|███▌      | 122/341 [13:27<25:02,  6.86s/file] "
     ]
    },
    {
     "name": "stdout",
     "output_type": "stream",
     "text": [
      "Error processing ../data/projects/puppeteer.json: Expecting property name enclosed in double quotes: line 55614998 column 27 (char 3179577344)\n"
     ]
    },
    {
     "name": "stderr",
     "output_type": "stream",
     "text": [
      "Processing project files:  49%|████▊     | 166/341 [17:07<25:04,  8.60s/file]  "
     ]
    },
    {
     "name": "stdout",
     "output_type": "stream",
     "text": [
      "Error processing ../data/projects/etcd.json: Expecting property name enclosed in double quotes: line 6955150 column 45 (char 386056192)\n"
     ]
    },
    {
     "name": "stderr",
     "output_type": "stream",
     "text": [
      "Processing project files:  62%|██████▏   | 212/341 [20:44<07:08,  3.32s/file]"
     ]
    },
    {
     "name": "stdout",
     "output_type": "stream",
     "text": [
      "Error processing ../data/projects/terraform.json: Expecting property name enclosed in double quotes: line 17282592 column 22 (char 1038368768)\n"
     ]
    },
    {
     "name": "stderr",
     "output_type": "stream",
     "text": [
      "Processing project files:  69%|██████▉   | 236/341 [22:19<08:42,  4.98s/file]"
     ]
    },
    {
     "name": "stdout",
     "output_type": "stream",
     "text": [
      "Error processing ../data/projects/vuetify.json: Unterminated string starting at: line 375152421 column 33 (char 22859759614)\n"
     ]
    },
    {
     "name": "stderr",
     "output_type": "stream",
     "text": [
      "Processing project files:  72%|███████▏  | 245/341 [23:49<09:30,  5.94s/file]"
     ]
    },
    {
     "name": "stdout",
     "output_type": "stream",
     "text": [
      "Error processing ../data/projects/langchain.json: Unterminated string starting at: line 113724821 column 42 (char 7027818463)\n"
     ]
    },
    {
     "name": "stdout",
     "output_type": "stream",
     "text": [
      "Number of project files found: 341\n"
     ]
    },
    {
     "name": "stderr",
     "output_type": "stream",
     "text": [
      "Processing project files:   1%|          | 4/341 [00:39<48:03,  8.56s/file]  "
     ]
    },
    {
     "name": "stdout",
     "output_type": "stream",
     "text": [
      "Error processing ../data/projects/pdf.js.json: Expecting property name enclosed in double quotes: line 250250266 column 7 (char 13817511936)\n"
     ]
    },
    {
     "name": "stderr",
     "output_type": "stream",
     "text": [
      "Processing project files:  14%|█▍        | 48/341 [05:14<44:14,  9.06s/file]  "
     ]
    },
    {
     "name": "stdout",
     "output_type": "stream",
     "text": [
      "Error processing ../data/projects/react-router.json: Unterminated string starting at: line 192756066 column 42 (char 11232903140)\n"
     ]
    },
    {
     "name": "stderr",
     "output_type": "stream",
     "text": [
      "Processing project files:  21%|██        | 70/341 [07:41<22:05,  4.89s/file]  "
     ]
    },
    {
     "name": "stdout",
     "output_type": "stream",
     "text": [
      "Error processing ../data/projects/svelte.json: Expecting property name enclosed in double quotes: line 67840123 column 1 (char 3716677632)\n"
     ]
    },
    {
     "name": "stderr",
     "output_type": "stream",
     "text": [
      "Processing project files:  22%|██▏       | 75/341 [07:50<13:00,  2.93s/file]"
     ]
    },
    {
     "name": "stdout",
     "output_type": "stream",
     "text": [
      "Error processing ../data/projects/nuxt.json: Expecting property name enclosed in double quotes: line 26373371 column 32 (char 1420902400)\n"
     ]
    },
    {
     "name": "stderr",
     "output_type": "stream",
     "text": [
      "Processing project files:  24%|██▍       | 82/341 [10:06<1:38:28, 22.81s/file]"
     ]
    },
    {
     "name": "stdout",
     "output_type": "stream",
     "text": [
      "Error processing ../data/projects/etherpad-lite.json: Expecting property name enclosed in double quotes: line 261315793 column 12 (char 14886502400)\n"
     ]
    },
    {
     "name": "stderr",
     "output_type": "stream",
     "text": [
      "Processing project files:  36%|███▌      | 122/341 [13:27<25:02,  6.86s/file] "
     ]
    },
    {
     "name": "stdout",
     "output_type": "stream",
     "text": [
      "Error processing ../data/projects/puppeteer.json: Expecting property name enclosed in double quotes: line 55614998 column 27 (char 3179577344)\n"
     ]
    },
    {
     "name": "stderr",
     "output_type": "stream",
     "text": [
      "Processing project files:  49%|████▊     | 166/341 [17:07<25:04,  8.60s/file]  "
     ]
    },
    {
     "name": "stdout",
     "output_type": "stream",
     "text": [
      "Error processing ../data/projects/etcd.json: Expecting property name enclosed in double quotes: line 6955150 column 45 (char 386056192)\n"
     ]
    },
    {
     "name": "stderr",
     "output_type": "stream",
     "text": [
      "Processing project files:  62%|██████▏   | 212/341 [20:44<07:08,  3.32s/file]"
     ]
    },
    {
     "name": "stdout",
     "output_type": "stream",
     "text": [
      "Error processing ../data/projects/terraform.json: Expecting property name enclosed in double quotes: line 17282592 column 22 (char 1038368768)\n"
     ]
    },
    {
     "name": "stderr",
     "output_type": "stream",
     "text": [
      "Processing project files:  69%|██████▉   | 236/341 [22:19<08:42,  4.98s/file]"
     ]
    },
    {
     "name": "stdout",
     "output_type": "stream",
     "text": [
      "Error processing ../data/projects/vuetify.json: Unterminated string starting at: line 375152421 column 33 (char 22859759614)\n"
     ]
    },
    {
     "name": "stderr",
     "output_type": "stream",
     "text": [
      "Processing project files:  72%|███████▏  | 245/341 [23:49<09:30,  5.94s/file]"
     ]
    },
    {
     "name": "stdout",
     "output_type": "stream",
     "text": [
      "Error processing ../data/projects/langchain.json: Unterminated string starting at: line 113724821 column 42 (char 7027818463)\n"
     ]
    },
    {
     "name": "stderr",
     "output_type": "stream",
     "text": [
      "Processing project files:  91%|█████████▏| 312/341 [31:04<01:36,  3.33s/file]"
     ]
    },
    {
     "name": "stdout",
     "output_type": "stream",
     "text": [
      "Number of project files found: 341\n"
     ]
    },
    {
     "name": "stderr",
     "output_type": "stream",
     "text": [
      "Processing project files:   1%|          | 4/341 [00:39<48:03,  8.56s/file]  "
     ]
    },
    {
     "name": "stdout",
     "output_type": "stream",
     "text": [
      "Error processing ../data/projects/pdf.js.json: Expecting property name enclosed in double quotes: line 250250266 column 7 (char 13817511936)\n"
     ]
    },
    {
     "name": "stderr",
     "output_type": "stream",
     "text": [
      "Processing project files:  14%|█▍        | 48/341 [05:14<44:14,  9.06s/file]  "
     ]
    },
    {
     "name": "stdout",
     "output_type": "stream",
     "text": [
      "Error processing ../data/projects/react-router.json: Unterminated string starting at: line 192756066 column 42 (char 11232903140)\n"
     ]
    },
    {
     "name": "stderr",
     "output_type": "stream",
     "text": [
      "Processing project files:  21%|██        | 70/341 [07:41<22:05,  4.89s/file]  "
     ]
    },
    {
     "name": "stdout",
     "output_type": "stream",
     "text": [
      "Error processing ../data/projects/svelte.json: Expecting property name enclosed in double quotes: line 67840123 column 1 (char 3716677632)\n"
     ]
    },
    {
     "name": "stderr",
     "output_type": "stream",
     "text": [
      "Processing project files:  22%|██▏       | 75/341 [07:50<13:00,  2.93s/file]"
     ]
    },
    {
     "name": "stdout",
     "output_type": "stream",
     "text": [
      "Error processing ../data/projects/nuxt.json: Expecting property name enclosed in double quotes: line 26373371 column 32 (char 1420902400)\n"
     ]
    },
    {
     "name": "stderr",
     "output_type": "stream",
     "text": [
      "Processing project files:  24%|██▍       | 82/341 [10:06<1:38:28, 22.81s/file]"
     ]
    },
    {
     "name": "stdout",
     "output_type": "stream",
     "text": [
      "Error processing ../data/projects/etherpad-lite.json: Expecting property name enclosed in double quotes: line 261315793 column 12 (char 14886502400)\n"
     ]
    },
    {
     "name": "stderr",
     "output_type": "stream",
     "text": [
      "Processing project files:  36%|███▌      | 122/341 [13:27<25:02,  6.86s/file] "
     ]
    },
    {
     "name": "stdout",
     "output_type": "stream",
     "text": [
      "Error processing ../data/projects/puppeteer.json: Expecting property name enclosed in double quotes: line 55614998 column 27 (char 3179577344)\n"
     ]
    },
    {
     "name": "stderr",
     "output_type": "stream",
     "text": [
      "Processing project files:  49%|████▊     | 166/341 [17:07<25:04,  8.60s/file]  "
     ]
    },
    {
     "name": "stdout",
     "output_type": "stream",
     "text": [
      "Error processing ../data/projects/etcd.json: Expecting property name enclosed in double quotes: line 6955150 column 45 (char 386056192)\n"
     ]
    },
    {
     "name": "stderr",
     "output_type": "stream",
     "text": [
      "Processing project files:  62%|██████▏   | 212/341 [20:44<07:08,  3.32s/file]"
     ]
    },
    {
     "name": "stdout",
     "output_type": "stream",
     "text": [
      "Error processing ../data/projects/terraform.json: Expecting property name enclosed in double quotes: line 17282592 column 22 (char 1038368768)\n"
     ]
    },
    {
     "name": "stderr",
     "output_type": "stream",
     "text": [
      "Processing project files:  69%|██████▉   | 236/341 [22:19<08:42,  4.98s/file]"
     ]
    },
    {
     "name": "stdout",
     "output_type": "stream",
     "text": [
      "Error processing ../data/projects/vuetify.json: Unterminated string starting at: line 375152421 column 33 (char 22859759614)\n"
     ]
    },
    {
     "name": "stderr",
     "output_type": "stream",
     "text": [
      "Processing project files:  72%|███████▏  | 245/341 [23:49<09:30,  5.94s/file]"
     ]
    },
    {
     "name": "stdout",
     "output_type": "stream",
     "text": [
      "Error processing ../data/projects/langchain.json: Unterminated string starting at: line 113724821 column 42 (char 7027818463)\n"
     ]
    },
    {
     "name": "stderr",
     "output_type": "stream",
     "text": [
      "Processing project files:  91%|█████████▏| 312/341 [31:04<01:36,  3.33s/file]"
     ]
    },
    {
     "name": "stdout",
     "output_type": "stream",
     "text": [
      "Error processing ../data/projects/kit.json: Expecting property name enclosed in double quotes: line 51719428 column 15 (char 2789474304)\n"
     ]
    },
    {
     "name": "stdout",
     "output_type": "stream",
     "text": [
      "Number of project files found: 341\n"
     ]
    },
    {
     "name": "stderr",
     "output_type": "stream",
     "text": [
      "Processing project files:   1%|          | 4/341 [00:39<48:03,  8.56s/file]  "
     ]
    },
    {
     "name": "stdout",
     "output_type": "stream",
     "text": [
      "Error processing ../data/projects/pdf.js.json: Expecting property name enclosed in double quotes: line 250250266 column 7 (char 13817511936)\n"
     ]
    },
    {
     "name": "stderr",
     "output_type": "stream",
     "text": [
      "Processing project files:  14%|█▍        | 48/341 [05:14<44:14,  9.06s/file]  "
     ]
    },
    {
     "name": "stdout",
     "output_type": "stream",
     "text": [
      "Error processing ../data/projects/react-router.json: Unterminated string starting at: line 192756066 column 42 (char 11232903140)\n"
     ]
    },
    {
     "name": "stderr",
     "output_type": "stream",
     "text": [
      "Processing project files:  21%|██        | 70/341 [07:41<22:05,  4.89s/file]  "
     ]
    },
    {
     "name": "stdout",
     "output_type": "stream",
     "text": [
      "Error processing ../data/projects/svelte.json: Expecting property name enclosed in double quotes: line 67840123 column 1 (char 3716677632)\n"
     ]
    },
    {
     "name": "stderr",
     "output_type": "stream",
     "text": [
      "Processing project files:  22%|██▏       | 75/341 [07:50<13:00,  2.93s/file]"
     ]
    },
    {
     "name": "stdout",
     "output_type": "stream",
     "text": [
      "Error processing ../data/projects/nuxt.json: Expecting property name enclosed in double quotes: line 26373371 column 32 (char 1420902400)\n"
     ]
    },
    {
     "name": "stderr",
     "output_type": "stream",
     "text": [
      "Processing project files:  24%|██▍       | 82/341 [10:06<1:38:28, 22.81s/file]"
     ]
    },
    {
     "name": "stdout",
     "output_type": "stream",
     "text": [
      "Error processing ../data/projects/etherpad-lite.json: Expecting property name enclosed in double quotes: line 261315793 column 12 (char 14886502400)\n"
     ]
    },
    {
     "name": "stderr",
     "output_type": "stream",
     "text": [
      "Processing project files:  36%|███▌      | 122/341 [13:27<25:02,  6.86s/file] "
     ]
    },
    {
     "name": "stdout",
     "output_type": "stream",
     "text": [
      "Error processing ../data/projects/puppeteer.json: Expecting property name enclosed in double quotes: line 55614998 column 27 (char 3179577344)\n"
     ]
    },
    {
     "name": "stderr",
     "output_type": "stream",
     "text": [
      "Processing project files:  49%|████▊     | 166/341 [17:07<25:04,  8.60s/file]  "
     ]
    },
    {
     "name": "stdout",
     "output_type": "stream",
     "text": [
      "Error processing ../data/projects/etcd.json: Expecting property name enclosed in double quotes: line 6955150 column 45 (char 386056192)\n"
     ]
    },
    {
     "name": "stderr",
     "output_type": "stream",
     "text": [
      "Processing project files:  62%|██████▏   | 212/341 [20:44<07:08,  3.32s/file]"
     ]
    },
    {
     "name": "stdout",
     "output_type": "stream",
     "text": [
      "Error processing ../data/projects/terraform.json: Expecting property name enclosed in double quotes: line 17282592 column 22 (char 1038368768)\n"
     ]
    },
    {
     "name": "stderr",
     "output_type": "stream",
     "text": [
      "Processing project files:  69%|██████▉   | 236/341 [22:19<08:42,  4.98s/file]"
     ]
    },
    {
     "name": "stdout",
     "output_type": "stream",
     "text": [
      "Error processing ../data/projects/vuetify.json: Unterminated string starting at: line 375152421 column 33 (char 22859759614)\n"
     ]
    },
    {
     "name": "stderr",
     "output_type": "stream",
     "text": [
      "Processing project files:  72%|███████▏  | 245/341 [23:49<09:30,  5.94s/file]"
     ]
    },
    {
     "name": "stdout",
     "output_type": "stream",
     "text": [
      "Error processing ../data/projects/langchain.json: Unterminated string starting at: line 113724821 column 42 (char 7027818463)\n"
     ]
    },
    {
     "name": "stderr",
     "output_type": "stream",
     "text": [
      "Processing project files:  91%|█████████▏| 312/341 [31:04<01:36,  3.33s/file]"
     ]
    },
    {
     "name": "stdout",
     "output_type": "stream",
     "text": [
      "Error processing ../data/projects/kit.json: Expecting property name enclosed in double quotes: line 51719428 column 15 (char 2789474304)\n"
     ]
    },
    {
     "name": "stderr",
     "output_type": "stream",
     "text": [
      "Processing project files:  92%|█████████▏| 313/341 [31:15<02:36,  5.60s/file]"
     ]
    },
    {
     "name": "stdout",
     "output_type": "stream",
     "text": [
      "Number of project files found: 341\n"
     ]
    },
    {
     "name": "stderr",
     "output_type": "stream",
     "text": [
      "Processing project files:   1%|          | 4/341 [00:39<48:03,  8.56s/file]  "
     ]
    },
    {
     "name": "stdout",
     "output_type": "stream",
     "text": [
      "Error processing ../data/projects/pdf.js.json: Expecting property name enclosed in double quotes: line 250250266 column 7 (char 13817511936)\n"
     ]
    },
    {
     "name": "stderr",
     "output_type": "stream",
     "text": [
      "Processing project files:  14%|█▍        | 48/341 [05:14<44:14,  9.06s/file]  "
     ]
    },
    {
     "name": "stdout",
     "output_type": "stream",
     "text": [
      "Error processing ../data/projects/react-router.json: Unterminated string starting at: line 192756066 column 42 (char 11232903140)\n"
     ]
    },
    {
     "name": "stderr",
     "output_type": "stream",
     "text": [
      "Processing project files:  21%|██        | 70/341 [07:41<22:05,  4.89s/file]  "
     ]
    },
    {
     "name": "stdout",
     "output_type": "stream",
     "text": [
      "Error processing ../data/projects/svelte.json: Expecting property name enclosed in double quotes: line 67840123 column 1 (char 3716677632)\n"
     ]
    },
    {
     "name": "stderr",
     "output_type": "stream",
     "text": [
      "Processing project files:  22%|██▏       | 75/341 [07:50<13:00,  2.93s/file]"
     ]
    },
    {
     "name": "stdout",
     "output_type": "stream",
     "text": [
      "Error processing ../data/projects/nuxt.json: Expecting property name enclosed in double quotes: line 26373371 column 32 (char 1420902400)\n"
     ]
    },
    {
     "name": "stderr",
     "output_type": "stream",
     "text": [
      "Processing project files:  24%|██▍       | 82/341 [10:06<1:38:28, 22.81s/file]"
     ]
    },
    {
     "name": "stdout",
     "output_type": "stream",
     "text": [
      "Error processing ../data/projects/etherpad-lite.json: Expecting property name enclosed in double quotes: line 261315793 column 12 (char 14886502400)\n"
     ]
    },
    {
     "name": "stderr",
     "output_type": "stream",
     "text": [
      "Processing project files:  36%|███▌      | 122/341 [13:27<25:02,  6.86s/file] "
     ]
    },
    {
     "name": "stdout",
     "output_type": "stream",
     "text": [
      "Error processing ../data/projects/puppeteer.json: Expecting property name enclosed in double quotes: line 55614998 column 27 (char 3179577344)\n"
     ]
    },
    {
     "name": "stderr",
     "output_type": "stream",
     "text": [
      "Processing project files:  49%|████▊     | 166/341 [17:07<25:04,  8.60s/file]  "
     ]
    },
    {
     "name": "stdout",
     "output_type": "stream",
     "text": [
      "Error processing ../data/projects/etcd.json: Expecting property name enclosed in double quotes: line 6955150 column 45 (char 386056192)\n"
     ]
    },
    {
     "name": "stderr",
     "output_type": "stream",
     "text": [
      "Processing project files:  62%|██████▏   | 212/341 [20:44<07:08,  3.32s/file]"
     ]
    },
    {
     "name": "stdout",
     "output_type": "stream",
     "text": [
      "Error processing ../data/projects/terraform.json: Expecting property name enclosed in double quotes: line 17282592 column 22 (char 1038368768)\n"
     ]
    },
    {
     "name": "stderr",
     "output_type": "stream",
     "text": [
      "Processing project files:  69%|██████▉   | 236/341 [22:19<08:42,  4.98s/file]"
     ]
    },
    {
     "name": "stdout",
     "output_type": "stream",
     "text": [
      "Error processing ../data/projects/vuetify.json: Unterminated string starting at: line 375152421 column 33 (char 22859759614)\n"
     ]
    },
    {
     "name": "stderr",
     "output_type": "stream",
     "text": [
      "Processing project files:  72%|███████▏  | 245/341 [23:49<09:30,  5.94s/file]"
     ]
    },
    {
     "name": "stdout",
     "output_type": "stream",
     "text": [
      "Error processing ../data/projects/langchain.json: Unterminated string starting at: line 113724821 column 42 (char 7027818463)\n"
     ]
    },
    {
     "name": "stderr",
     "output_type": "stream",
     "text": [
      "Processing project files:  91%|█████████▏| 312/341 [31:04<01:36,  3.33s/file]"
     ]
    },
    {
     "name": "stdout",
     "output_type": "stream",
     "text": [
      "Error processing ../data/projects/kit.json: Expecting property name enclosed in double quotes: line 51719428 column 15 (char 2789474304)\n"
     ]
    },
    {
     "name": "stderr",
     "output_type": "stream",
     "text": [
      "Processing project files:  92%|█████████▏| 313/341 [31:15<02:36,  5.60s/file]"
     ]
    },
    {
     "name": "stdout",
     "output_type": "stream",
     "text": [
      "Error processing ../data/projects/traefik.json: Unterminated string starting at: line 74595123 column 45 (char 4156129251)\n"
     ]
    },
    {
     "name": "stderr",
     "output_type": "stream",
     "text": [
      "Processing project files: 100%|██████████| 341/341 [35:23<00:00,  6.23s/file]\n",
      "Processing project files: 100%|██████████| 341/341 [35:23<00:00,  6.23s/file]\n"
     ]
    }
   ],
   "source": [
    "import glob\n",
    "import json\n",
    "from tqdm import tqdm\n",
    "\n",
    "project_files = glob.glob(\"../data/projects/*.json\")\n",
    "\n",
    "print(\"Number of project files found:\", len(project_files))\n",
    "\n",
    "all_commits = []\n",
    "all_config_related_commits = []\n",
    "all_contributors = []\n",
    "all_config_commit_contributors = []\n",
    "\n",
    "for project_file in tqdm(project_files, desc=\"Processing project files\", unit=\"file\"):\n",
    "    try:\n",
    "        with open(project_file, \"r\") as f:\n",
    "            project_data = json.load(f)\n",
    "            commits = project_data.get(\"commit_data\", [])\n",
    "            config_related_commits = [commit for commit in commits if commit[\"is_config_related\"] == True]\n",
    "            all_commits.append(len(commits))\n",
    "            all_config_related_commits.append(len(config_related_commits))\n",
    "            contributors = set(commit[\"author\"] for commit in commits)\n",
    "            all_contributors.append(len(contributors))\n",
    "            config_contributors = set([commit[\"author\"] for commit in config_related_commits])\n",
    "            all_config_commit_contributors.append(len(config_contributors))\n",
    "\n",
    "    except Exception as e:\n",
    "        print(f\"Error processing {project_file}: {e}\")\n",
    "\n"
   ]
  },
  {
   "cell_type": "code",
   "execution_count": 26,
   "id": "e510d512",
   "metadata": {},
   "outputs": [
    {
     "name": "stdout",
     "output_type": "stream",
     "text": [
      "Total, Min, Max Commits: 2934472 68 181516\n",
      "Total, Min, Max Total Config-Related Commits: 345308 1 15812\n",
      "Contributors: [503, 242, 124, 267, 152, 110, 24, 38, 273, 1092, 377, 1717, 545, 29, 44, 166, 29, 54, 1228, 520, 3428, 230, 1264, 478, 243, 187, 197, 264, 1295, 1762, 223, 335, 361, 151, 163, 2703, 50, 61, 1498, 234, 501, 497, 389, 353, 94, 87, 70, 323, 133, 119, 1030, 1039, 192, 414, 283, 190, 509, 299, 187, 970, 193, 14, 74, 284, 206, 419, 534, 647, 99, 154, 133, 79, 237, 192, 69, 354, 267, 45, 604, 341, 421, 59, 66, 212, 203, 404, 3388, 659, 104, 2892, 908, 444, 215, 2732, 235, 129, 976, 315, 334, 268, 168, 96, 137, 332, 27, 128, 207, 114, 427, 170, 263, 153, 1478, 256, 145, 238, 207, 59, 189, 297, 556, 185, 1154, 70, 393, 1502, 598, 662, 73, 2120, 186, 264, 191, 61, 269, 71, 68, 219, 767, 109, 863, 712, 115, 4010, 692, 181, 619, 39, 294, 2455, 4712, 461, 179, 1336, 317, 510, 885, 7, 231, 726, 338, 930, 379, 44, 116, 211, 47, 869, 76, 424, 449, 381, 384, 174, 317, 45, 29, 75, 63, 19, 301, 661, 292, 73, 616, 151, 28, 90, 96, 184, 1214, 101, 100, 153, 132, 20, 672, 240, 12, 151, 83, 21, 164, 158, 4144, 234, 79, 314, 2604, 130, 61, 803, 61, 3, 188, 210, 620, 146, 48, 385, 92, 258, 315, 127, 585, 65, 361, 476, 802, 422, 190, 21, 59, 3535, 54, 109, 471, 57, 1287, 244, 497, 75, 225, 1225, 128, 358, 1395, 138, 1361, 553, 472, 408, 753, 358, 403, 931, 154, 454, 181, 3524, 1289, 199, 410, 735, 310, 290, 77, 263, 212, 332, 93, 599, 70, 146, 368, 203, 187, 181, 437, 70, 168, 56, 105, 1251, 637, 4982, 2777, 1276, 3713, 399, 503, 327, 141, 239, 286, 851, 286, 687, 23, 140, 15, 553, 106, 1207, 57, 1384, 869, 106, 3, 86, 344, 575, 354, 301, 501, 244, 63, 386, 193, 173, 29, 590, 645, 414, 6946, 456, 769, 166, 209]\n",
      "Config Commit Contributors: [41, 15, 15, 37, 30, 16, 7, 12, 37, 896, 43, 64, 153, 24, 6, 39, 8, 30, 414, 63, 375, 35, 111, 160, 42, 16, 32, 117, 545, 432, 38, 25, 37, 15, 91, 341, 10, 21, 237, 58, 61, 116, 140, 25, 3, 24, 42, 151, 21, 61, 281, 316, 78, 90, 49, 36, 36, 39, 39, 235, 83, 8, 12, 107, 34, 38, 20, 119, 15, 28, 33, 52, 29, 59, 49, 151, 54, 21, 176, 30, 151, 12, 18, 4, 50, 104, 164, 51, 96, 78, 183, 21, 133, 83, 72, 96, 133, 29, 61, 74, 13, 31, 28, 8, 7, 26, 108, 17, 59, 8, 20, 21, 103, 71, 13, 53, 54, 33, 48, 65, 181, 40, 269, 30, 76, 120, 147, 192, 43, 170, 35, 67, 40, 13, 34, 19, 23, 61, 159, 22, 147, 96, 31, 300, 94, 30, 37, 14, 88, 164, 229, 33, 33, 337, 149, 188, 60, 2, 173, 182, 36, 96, 73, 5, 36, 65, 9, 86, 8, 60, 12, 83, 9, 28, 107, 7, 13, 9, 31, 16, 224, 73, 82, 10, 83, 31, 11, 24, 27, 55, 149, 39, 36, 35, 9, 1, 87, 132, 1, 55, 24, 9, 64, 71, 568, 54, 3, 12, 28, 13, 6, 55, 28, 2, 51, 72, 140, 39, 34, 246, 19, 12, 49, 79, 173, 21, 42, 109, 236, 111, 51, 1, 19, 137, 15, 47, 115, 16, 284, 29, 93, 9, 69, 136, 46, 101, 164, 46, 136, 62, 111, 100, 98, 35, 138, 173, 7, 183, 22, 174, 137, 62, 57, 207, 17, 11, 41, 76, 48, 56, 17, 199, 47, 40, 116, 51, 56, 6, 99, 23, 24, 6, 25, 189, 193, 691, 23, 275, 1432, 50, 124, 85, 31, 134, 58, 231, 31, 51, 15, 44, 6, 122, 20, 254, 18, 494, 534, 11, 3, 44, 98, 173, 82, 50, 104, 85, 41, 125, 63, 67, 4, 61, 147, 63, 427, 29, 128, 41, 52]\n",
      "Average Commits: 8919.37\n",
      "Average Config-Related Commits: 1049.57\n",
      "Average Contributors: 521.28\n",
      "Average Config Commit Contributors: 89.79\n"
     ]
    }
   ],
   "source": [
    "print(\"Total, Min, Max Commits:\", sum(all_commits), min(all_commits), max(all_commits))\n",
    "print(\"Total, Min, Max Total Config-Related Commits:\", sum(all_config_related_commits), min(all_config_related_commits), max(all_config_related_commits))\n",
    "print(\"Contributors:\", all_contributors)\n",
    "print(\"Config Commit Contributors:\", all_config_commit_contributors)\n",
    "\n",
    "print(\"Average Commits:\", round(sum(all_commits) / len(all_commits), 2))\n",
    "print(\"Average Config-Related Commits:\", round(sum(all_config_related_commits) / len(all_config_related_commits), 2))\n",
    "print(\"Average Contributors:\", round(sum(all_contributors) / len(all_contributors), 2))\n",
    "print(\"Average Config Commit Contributors:\", round(sum(all_config_commit_contributors) / len(all_config_commit_contributors), 2))"
   ]
  },
  {
   "cell_type": "code",
   "execution_count": 28,
   "id": "b386a2be",
   "metadata": {},
   "outputs": [
    {
     "name": "stdout",
     "output_type": "stream",
     "text": [
      "Average Config Commit Contributors: [0.08, 0.06, 0.12, 0.14, 0.2, 0.15, 0.29, 0.32, 0.14, 0.82, 0.11, 0.04, 0.28, 0.83, 0.14, 0.23, 0.28, 0.56, 0.34, 0.12, 0.11, 0.15, 0.09, 0.33, 0.17, 0.09, 0.16, 0.44, 0.42, 0.25, 0.17, 0.07, 0.1, 0.1, 0.56, 0.13, 0.2, 0.34, 0.16, 0.25, 0.12, 0.23, 0.36, 0.07, 0.03, 0.28, 0.6, 0.47, 0.16, 0.51, 0.27, 0.3, 0.41, 0.22, 0.17, 0.19, 0.07, 0.13, 0.21, 0.24, 0.43, 0.57, 0.16, 0.38, 0.17, 0.09, 0.04, 0.18, 0.15, 0.18, 0.25, 0.66, 0.12, 0.31, 0.71, 0.43, 0.2, 0.47, 0.29, 0.09, 0.36, 0.2, 0.27, 0.02, 0.25, 0.26, 0.05, 0.08, 0.92, 0.03, 0.2, 0.05, 0.62, 0.03, 0.31, 0.74, 0.14, 0.09, 0.18, 0.28, 0.08, 0.32, 0.2, 0.02, 0.26, 0.2, 0.52, 0.15, 0.14, 0.05, 0.08, 0.14, 0.07, 0.28, 0.09, 0.22, 0.26, 0.56, 0.25, 0.22, 0.33, 0.22, 0.23, 0.43, 0.19, 0.08, 0.25, 0.29, 0.59, 0.08, 0.19, 0.25, 0.21, 0.21, 0.13, 0.27, 0.34, 0.28, 0.21, 0.2, 0.17, 0.13, 0.27, 0.07, 0.14, 0.17, 0.06, 0.36, 0.3, 0.07, 0.05, 0.07, 0.18, 0.25, 0.47, 0.37, 0.07, 0.29, 0.75, 0.25, 0.11, 0.1, 0.19, 0.11, 0.31, 0.31, 0.19, 0.1, 0.11, 0.14, 0.03, 0.22, 0.02, 0.16, 0.34, 0.16, 0.45, 0.12, 0.49, 0.84, 0.74, 0.11, 0.28, 0.14, 0.13, 0.21, 0.39, 0.27, 0.28, 0.3, 0.12, 0.39, 0.36, 0.23, 0.07, 0.05, 0.13, 0.55, 0.08, 0.36, 0.29, 0.43, 0.39, 0.45, 0.14, 0.23, 0.04, 0.04, 0.01, 0.1, 0.1, 0.07, 0.46, 0.67, 0.27, 0.34, 0.23, 0.27, 0.71, 0.64, 0.21, 0.05, 0.16, 0.62, 0.3, 0.32, 0.12, 0.23, 0.29, 0.26, 0.27, 0.05, 0.32, 0.04, 0.28, 0.43, 0.24, 0.28, 0.22, 0.12, 0.19, 0.12, 0.31, 0.11, 0.36, 0.28, 0.12, 0.33, 0.1, 0.11, 0.24, 0.25, 0.13, 0.1, 0.34, 0.19, 0.05, 0.4, 0.12, 0.05, 0.11, 0.31, 0.14, 0.28, 0.05, 0.04, 0.53, 0.29, 0.23, 0.17, 0.18, 0.33, 0.67, 0.27, 0.32, 0.25, 0.3, 0.03, 0.23, 0.33, 0.14, 0.11, 0.24, 0.15, 0.3, 0.14, 0.01, 0.22, 0.39, 0.13, 0.25, 0.26, 0.22, 0.56, 0.2, 0.27, 0.11, 0.07, 0.65, 0.31, 0.4, 0.22, 0.19, 0.21, 0.32, 0.36, 0.61, 0.1, 1.0, 0.51, 0.28, 0.3, 0.23, 0.17, 0.21, 0.35, 0.65, 0.32, 0.33, 0.39, 0.14, 0.1, 0.23, 0.15, 0.06, 0.06, 0.17, 0.25, 0.25]\n",
      "Average Config Commit Contributors across all projects: 0.25\n"
     ]
    }
   ],
   "source": [
    "avg_config_contributors = []\n",
    "\n",
    "for x, y in zip(all_config_commit_contributors, all_contributors):\n",
    "    avg_config_contributors.append(round(x / y if y > 0 else 0, 2))\n",
    "\n",
    "\n",
    "print(\"Average Config Commit Contributors:\", avg_config_contributors)\n",
    "print(\"Average Config Commit Contributors across all projects:\", round(sum(avg_config_contributors) / len(avg_config_contributors), 2) if avg_config_contributors else 0)\n"
   ]
  }
 ],
 "metadata": {
  "kernelspec": {
   "display_name": "env",
   "language": "python",
   "name": "python3"
  },
  "language_info": {
   "codemirror_mode": {
    "name": "ipython",
    "version": 3
   },
   "file_extension": ".py",
   "mimetype": "text/x-python",
   "name": "python",
   "nbconvert_exporter": "python",
   "pygments_lexer": "ipython3",
   "version": "3.12.10"
  }
 },
 "nbformat": 4,
 "nbformat_minor": 5
}
