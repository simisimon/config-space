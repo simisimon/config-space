{
 "cells": [
  {
   "cell_type": "markdown",
   "id": "1e42d9f6",
   "metadata": {},
   "source": [
    "**Extract latest options (current state)**"
   ]
  },
  {
   "cell_type": "code",
   "execution_count": 5,
   "id": "a4fdafe3",
   "metadata": {},
   "outputs": [],
   "source": [
    "import json\n",
    "import pandas as pd\n",
    "import ast\n",
    "import glob\n",
    "import os\n",
    "from typing import List\n",
    "\n",
    "\n",
    "data_file = \"../data/microservice_projects/test-config-repo.json\"\n",
    "\n",
    "with open(data_file, \"r\", encoding=\"utf-8\") as src:\n",
    "    data = json.load(src)\n",
    "\n",
    "\n",
    "def extract_options(data: List) -> pd.DataFrame:\n",
    "    \"\"\"\n",
    "    Extract all options and all of their values from the latest commit to get the current state of the software project.\n",
    "\n",
    "    :param data: list of configuration data from commit history\n",
    "    :return: dataframe contain all options and the values from the latest commit\n",
    "    \"\"\"\n",
    "    config_data = []\n",
    "    latest_commit = data[\"commit_data\"][-1]\n",
    "\n",
    "    if not latest_commit[\"is_latest_commit\"]:\n",
    "        raise Exception(\"The latest commit is not the last commit in the history.\")\n",
    "\n",
    "    for config_file in latest_commit[\"network_data\"][\"config_file_data\"]:\n",
    "        for pair in config_file[\"pairs\"]:\n",
    "            config_data.append({\n",
    "                \"concept\": config_file[\"concept\"],\n",
    "                \"file_path\": config_file[\"file_path\"],\n",
    "                \"option\": pair[\"option\"],\n",
    "                \"value\": pair[\"value\"],\n",
    "                \"type\": pair[\"type\"],\n",
    "                \n",
    "            })\n",
    "\n",
    "    df = pd.DataFrame(config_data)\n",
    "\n",
    "    return df\n",
    "\n",
    "df_options = extract_options(data=data)\n",
    "df_options.to_csv(f\"../data/options/{data['project_name']}_options_latest.csv\", index=False)"
   ]
  }
 ],
 "metadata": {
  "kernelspec": {
   "display_name": "env",
   "language": "python",
   "name": "python3"
  },
  "language_info": {
   "codemirror_mode": {
    "name": "ipython",
    "version": 3
   },
   "file_extension": ".py",
   "mimetype": "text/x-python",
   "name": "python",
   "nbconvert_exporter": "python",
   "pygments_lexer": "ipython3",
   "version": "3.10.12"
  }
 },
 "nbformat": 4,
 "nbformat_minor": 5
}
